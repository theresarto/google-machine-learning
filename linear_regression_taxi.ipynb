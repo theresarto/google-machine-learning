{
  "cells": [
    {
      "cell_type": "code",
      "execution_count": null,
      "metadata": {
        "cellView": "form",
        "id": "X53vZqc7PxCA"
      },
      "outputs": [],
      "source": [
        "#@title Copyright 2023 Google LLC. Double-click here for license information.\n",
        "# Licensed under the Apache License, Version 2.0 (the \"License\");\n",
        "# you may not use this file except in compliance with the License.\n",
        "# You may obtain a copy of the License at\n",
        "#\n",
        "# https://www.apache.org/licenses/LICENSE-2.0\n",
        "#\n",
        "# Unless required by applicable law or agreed to in writing, software\n",
        "# distributed under the License is distributed on an \"AS IS\" BASIS,\n",
        "# WITHOUT WARRANTIES OR CONDITIONS OF ANY KIND, either express or implied.\n",
        "# See the License for the specific language governing permissions and\n",
        "# limitations under the License."
      ]
    },
    {
      "cell_type": "markdown",
      "metadata": {
        "id": "mWCXBrPgQD0P"
      },
      "source": [
        "# Colabs\n",
        "\n",
        "Machine Learning Crash Course uses Colaboratories (Colabs) for all programming exercises. Colab is Google's implementation of [Jupyter Notebook](https://jupyter.org/). For more information about Colabs and how to use them, go to [Welcome to Colaboratory](https://research.google.com/colaboratory).\n",
        "\n",
        "# Linear Regression\n",
        "In this Colab you will use a real dataset to train a model to predict the fare of a taxi ride in Chicago, Illinois.\n",
        "\n",
        "## Learning Objectives\n",
        "After completing this Colab, you'll be able to:\n",
        "\n",
        "  * Read a .csv file into a [pandas](https://developers.google.com/machine-learning/glossary/#pandas) DataFrame.\n",
        "  * Explore a [dataset](https://developers.google.com/machine-learning/glossary/#data_set) with Python visualization libraries.\n",
        "  * Experiment with different [features](https://developers.google.com/machine-learning/glossary/#feature) to build a linear regression model.\n",
        "  * Tune the model's [hyperparameters](https://developers.google.com/machine-learning/glossary/#hyperparameter).\n",
        "  * Compare training runs using [root mean squared error](https://developers.google.com/machine-learning/glossary/#root-mean-squared-error-rmse) and [loss curves](https://developers.google.com/machine-learning/glossary/#loss-curve).\n",
        "\n",
        "## Dataset Description\n",
        "The [dataset for this exercise](https://storage.mtls.cloud.google.com/mlcc-nextgen-internal/chicago_taxi_train.csv) is derived from the [City of Chicago Taxi Trips dataset](https://data.cityofchicago.org/Transportation/Taxi-Trips/wrvz-psew). The data for this exercise is a subset of the Taxi Trips data, and focuses on a two-day period in May of 2022."
      ]
    },
    {
      "cell_type": "markdown",
      "metadata": {
        "id": "bBJQc5TgRrFx"
      },
      "source": [
        "# Part 1 - Setup Exercise\n",
        "\n",
        "\n",
        "---\n",
        "\n"
      ]
    },
    {
      "cell_type": "markdown",
      "metadata": {
        "id": "V9pkosc63-63"
      },
      "source": [
        "## Load required modules\n",
        "\n",
        "This exercise depends on several Python libraries to help with data manipulation, machine learning tasks, and data visualization.\n",
        "\n",
        "**Instructions**\n",
        "1. Run the **Load dependencies** code cell (below)."
      ]
    },
    {
      "cell_type": "code",
      "execution_count": 3,
      "metadata": {
        "cellView": "form",
        "id": "wHBXW8ob16z3"
      },
      "outputs": [],
      "source": [
        "#@title Code - Load dependencies\n",
        "\n",
        "#general\n",
        "import io\n",
        "\n",
        "# data\n",
        "import numpy as np\n",
        "import pandas as pd\n",
        "\n",
        "# machine learning\n",
        "from tensorflow import keras\n",
        "\n",
        "# data visualization\n",
        "import plotly.express as px\n",
        "from plotly.subplots import make_subplots\n",
        "import plotly.graph_objects as go\n",
        "import seaborn as sns"
      ]
    },
    {
      "cell_type": "markdown",
      "metadata": {
        "id": "sgR4YRjj5T-b"
      },
      "source": [
        "## Load the dataset\n",
        "\n",
        "\n",
        "The following code cell loads the dataset and creates a pandas DataFrame.\n",
        "\n",
        "You can think of a DataFrame like a spreadsheet with rows and columns. The rows represent individual data examples, and the columns represent the attributes associated with each example."
      ]
    },
    {
      "cell_type": "code",
      "execution_count": 4,
      "metadata": {
        "id": "abmswn6USJjQ"
      },
      "outputs": [],
      "source": [
        "# @title\n",
        "chicago_taxi_dataset = pd.read_csv(\"https://download.mlcc.google.com/mledu-datasets/chicago_taxi_train.csv\")"
      ]
    },
    {
      "cell_type": "markdown",
      "metadata": {
        "id": "iKE0s1hNQ4H9"
      },
      "source": [
        "## Update the dataframe\n",
        "\n",
        "The following code cell updates the DataFrame to use only specific columns from the dataset.\n",
        "\n",
        "Notice that that output shows just a sample of the dataset, but there should be enough information for you to identify the features associated with the dataset, and have a look at the actual data for a few examples."
      ]
    },
    {
      "cell_type": "code",
      "execution_count": 5,
      "metadata": {
        "cellView": "form",
        "id": "YuLz6IgGP2LE"
      },
      "outputs": [
        {
          "name": "stdout",
          "output_type": "stream",
          "text": [
            "Read dataset completed successfully.\n",
            "Total number of rows: 31694\n",
            "\n",
            "\n"
          ]
        },
        {
          "data": {
            "text/html": [
              "<div>\n",
              "<style scoped>\n",
              "    .dataframe tbody tr th:only-of-type {\n",
              "        vertical-align: middle;\n",
              "    }\n",
              "\n",
              "    .dataframe tbody tr th {\n",
              "        vertical-align: top;\n",
              "    }\n",
              "\n",
              "    .dataframe thead th {\n",
              "        text-align: right;\n",
              "    }\n",
              "</style>\n",
              "<table border=\"1\" class=\"dataframe\">\n",
              "  <thead>\n",
              "    <tr style=\"text-align: right;\">\n",
              "      <th></th>\n",
              "      <th>TRIP_MILES</th>\n",
              "      <th>TRIP_SECONDS</th>\n",
              "      <th>FARE</th>\n",
              "      <th>COMPANY</th>\n",
              "      <th>PAYMENT_TYPE</th>\n",
              "      <th>TIP_RATE</th>\n",
              "    </tr>\n",
              "  </thead>\n",
              "  <tbody>\n",
              "    <tr>\n",
              "      <th>0</th>\n",
              "      <td>2.57</td>\n",
              "      <td>2341</td>\n",
              "      <td>31.99</td>\n",
              "      <td>Flash Cab</td>\n",
              "      <td>Mobile</td>\n",
              "      <td>6.3</td>\n",
              "    </tr>\n",
              "    <tr>\n",
              "      <th>1</th>\n",
              "      <td>1.18</td>\n",
              "      <td>1074</td>\n",
              "      <td>9.75</td>\n",
              "      <td>Flash Cab</td>\n",
              "      <td>Credit Card</td>\n",
              "      <td>27.9</td>\n",
              "    </tr>\n",
              "    <tr>\n",
              "      <th>2</th>\n",
              "      <td>1.29</td>\n",
              "      <td>1173</td>\n",
              "      <td>10.25</td>\n",
              "      <td>Sun Taxi</td>\n",
              "      <td>Cash</td>\n",
              "      <td>0.0</td>\n",
              "    </tr>\n",
              "    <tr>\n",
              "      <th>3</th>\n",
              "      <td>3.70</td>\n",
              "      <td>3360</td>\n",
              "      <td>23.75</td>\n",
              "      <td>Choice Taxi Association</td>\n",
              "      <td>Cash</td>\n",
              "      <td>0.0</td>\n",
              "    </tr>\n",
              "    <tr>\n",
              "      <th>4</th>\n",
              "      <td>1.15</td>\n",
              "      <td>1044</td>\n",
              "      <td>10.00</td>\n",
              "      <td>Flash Cab</td>\n",
              "      <td>Cash</td>\n",
              "      <td>0.0</td>\n",
              "    </tr>\n",
              "    <tr>\n",
              "      <th>...</th>\n",
              "      <td>...</td>\n",
              "      <td>...</td>\n",
              "      <td>...</td>\n",
              "      <td>...</td>\n",
              "      <td>...</td>\n",
              "      <td>...</td>\n",
              "    </tr>\n",
              "    <tr>\n",
              "      <th>195</th>\n",
              "      <td>1.13</td>\n",
              "      <td>821</td>\n",
              "      <td>9.00</td>\n",
              "      <td>Blue Ribbon Taxi Association</td>\n",
              "      <td>Mobile</td>\n",
              "      <td>22.9</td>\n",
              "    </tr>\n",
              "    <tr>\n",
              "      <th>196</th>\n",
              "      <td>0.57</td>\n",
              "      <td>414</td>\n",
              "      <td>6.00</td>\n",
              "      <td>Flash Cab</td>\n",
              "      <td>Cash</td>\n",
              "      <td>0.0</td>\n",
              "    </tr>\n",
              "    <tr>\n",
              "      <th>197</th>\n",
              "      <td>1.22</td>\n",
              "      <td>886</td>\n",
              "      <td>9.00</td>\n",
              "      <td>City Service</td>\n",
              "      <td>Cash</td>\n",
              "      <td>0.0</td>\n",
              "    </tr>\n",
              "    <tr>\n",
              "      <th>198</th>\n",
              "      <td>1.68</td>\n",
              "      <td>1219</td>\n",
              "      <td>9.00</td>\n",
              "      <td>Sun Taxi</td>\n",
              "      <td>Mobile</td>\n",
              "      <td>23.0</td>\n",
              "    </tr>\n",
              "    <tr>\n",
              "      <th>199</th>\n",
              "      <td>0.71</td>\n",
              "      <td>515</td>\n",
              "      <td>6.50</td>\n",
              "      <td>Sun Taxi</td>\n",
              "      <td>Credit Card</td>\n",
              "      <td>18.2</td>\n",
              "    </tr>\n",
              "  </tbody>\n",
              "</table>\n",
              "<p>200 rows × 6 columns</p>\n",
              "</div>"
            ],
            "text/plain": [
              "     TRIP_MILES  TRIP_SECONDS   FARE                       COMPANY  \\\n",
              "0          2.57          2341  31.99                     Flash Cab   \n",
              "1          1.18          1074   9.75                     Flash Cab   \n",
              "2          1.29          1173  10.25                      Sun Taxi   \n",
              "3          3.70          3360  23.75       Choice Taxi Association   \n",
              "4          1.15          1044  10.00                     Flash Cab   \n",
              "..          ...           ...    ...                           ...   \n",
              "195        1.13           821   9.00  Blue Ribbon Taxi Association   \n",
              "196        0.57           414   6.00                     Flash Cab   \n",
              "197        1.22           886   9.00                  City Service   \n",
              "198        1.68          1219   9.00                      Sun Taxi   \n",
              "199        0.71           515   6.50                      Sun Taxi   \n",
              "\n",
              "    PAYMENT_TYPE  TIP_RATE  \n",
              "0         Mobile       6.3  \n",
              "1    Credit Card      27.9  \n",
              "2           Cash       0.0  \n",
              "3           Cash       0.0  \n",
              "4           Cash       0.0  \n",
              "..           ...       ...  \n",
              "195       Mobile      22.9  \n",
              "196         Cash       0.0  \n",
              "197         Cash       0.0  \n",
              "198       Mobile      23.0  \n",
              "199  Credit Card      18.2  \n",
              "\n",
              "[200 rows x 6 columns]"
            ]
          },
          "execution_count": 5,
          "metadata": {},
          "output_type": "execute_result"
        }
      ],
      "source": [
        "#@title Code - Read dataset\n",
        "\n",
        "# Updates dataframe to use specific columns.\n",
        "training_df = chicago_taxi_dataset[['TRIP_MILES', 'TRIP_SECONDS', 'FARE', 'COMPANY', 'PAYMENT_TYPE', 'TIP_RATE']]\n",
        "\n",
        "print('Read dataset completed successfully.')\n",
        "print('Total number of rows: {0}\\n\\n'.format(len(training_df.index)))\n",
        "training_df.head(200)"
      ]
    },
    {
      "cell_type": "markdown",
      "metadata": {
        "id": "RUL471vSR28O"
      },
      "source": [
        "# Part 2 - Dataset Exploration\n",
        "\n",
        "\n",
        "---\n",
        "\n"
      ]
    },
    {
      "cell_type": "markdown",
      "metadata": {
        "id": "7mhqzPIS9nFv"
      },
      "source": [
        "## View dataset statistics\n",
        "\n",
        "A large part of most machine learning projects is getting to know your data. In this step, you will use the ``DataFrame.describe`` method to view descriptive statistics about the dataset and answer some important questions about the data.\n",
        "\n",
        "**Instructions**\n",
        "1. Run the **View dataset statistics** code cell.\n",
        "1. Inspect the output and answer these questions:\n",
        "  * What is the maximum fare?\n",
        "  * What is the mean distance across all trips?\n",
        "  * How many cab companies are in the dataset?\n",
        "  * What is the most frequent payment type?\n",
        "  * Are any features missing data?\n",
        "1. Run the code **View answers to dataset statistics** code cell to check your answers.\n",
        "\n",
        "\n",
        "You might be wondering why there are groups of `NaN` (not a number) values listed in the output. When working with data in Python, you may see this value if the result of a calculation can not be computed or if there is missing information. For example, in the taxi dataset `PAYMENT_TYPE` and `COMPANY` are non-numeric, categorical features; numeric information such as mean and max do not make sense for categorical features so the output displays `NaN`."
      ]
    },
    {
      "cell_type": "code",
      "execution_count": 6,
      "metadata": {
        "cellView": "form",
        "id": "pkuQNjgoAKYt"
      },
      "outputs": [
        {
          "name": "stdout",
          "output_type": "stream",
          "text": [
            "Total number of rows: 31694\n",
            "\n",
            "\n"
          ]
        },
        {
          "data": {
            "text/html": [
              "<div>\n",
              "<style scoped>\n",
              "    .dataframe tbody tr th:only-of-type {\n",
              "        vertical-align: middle;\n",
              "    }\n",
              "\n",
              "    .dataframe tbody tr th {\n",
              "        vertical-align: top;\n",
              "    }\n",
              "\n",
              "    .dataframe thead th {\n",
              "        text-align: right;\n",
              "    }\n",
              "</style>\n",
              "<table border=\"1\" class=\"dataframe\">\n",
              "  <thead>\n",
              "    <tr style=\"text-align: right;\">\n",
              "      <th></th>\n",
              "      <th>TRIP_MILES</th>\n",
              "      <th>TRIP_SECONDS</th>\n",
              "      <th>FARE</th>\n",
              "      <th>COMPANY</th>\n",
              "      <th>PAYMENT_TYPE</th>\n",
              "      <th>TIP_RATE</th>\n",
              "    </tr>\n",
              "  </thead>\n",
              "  <tbody>\n",
              "    <tr>\n",
              "      <th>count</th>\n",
              "      <td>31694.000000</td>\n",
              "      <td>31694.000000</td>\n",
              "      <td>31694.000000</td>\n",
              "      <td>31694</td>\n",
              "      <td>31694</td>\n",
              "      <td>31694.000000</td>\n",
              "    </tr>\n",
              "    <tr>\n",
              "      <th>unique</th>\n",
              "      <td>NaN</td>\n",
              "      <td>NaN</td>\n",
              "      <td>NaN</td>\n",
              "      <td>31</td>\n",
              "      <td>7</td>\n",
              "      <td>NaN</td>\n",
              "    </tr>\n",
              "    <tr>\n",
              "      <th>top</th>\n",
              "      <td>NaN</td>\n",
              "      <td>NaN</td>\n",
              "      <td>NaN</td>\n",
              "      <td>Flash Cab</td>\n",
              "      <td>Credit Card</td>\n",
              "      <td>NaN</td>\n",
              "    </tr>\n",
              "    <tr>\n",
              "      <th>freq</th>\n",
              "      <td>NaN</td>\n",
              "      <td>NaN</td>\n",
              "      <td>NaN</td>\n",
              "      <td>7887</td>\n",
              "      <td>14142</td>\n",
              "      <td>NaN</td>\n",
              "    </tr>\n",
              "    <tr>\n",
              "      <th>mean</th>\n",
              "      <td>8.289463</td>\n",
              "      <td>1319.796397</td>\n",
              "      <td>23.905210</td>\n",
              "      <td>NaN</td>\n",
              "      <td>NaN</td>\n",
              "      <td>12.965785</td>\n",
              "    </tr>\n",
              "    <tr>\n",
              "      <th>std</th>\n",
              "      <td>7.265672</td>\n",
              "      <td>928.932873</td>\n",
              "      <td>16.970022</td>\n",
              "      <td>NaN</td>\n",
              "      <td>NaN</td>\n",
              "      <td>15.517765</td>\n",
              "    </tr>\n",
              "    <tr>\n",
              "      <th>min</th>\n",
              "      <td>0.500000</td>\n",
              "      <td>60.000000</td>\n",
              "      <td>3.250000</td>\n",
              "      <td>NaN</td>\n",
              "      <td>NaN</td>\n",
              "      <td>0.000000</td>\n",
              "    </tr>\n",
              "    <tr>\n",
              "      <th>25%</th>\n",
              "      <td>1.720000</td>\n",
              "      <td>548.000000</td>\n",
              "      <td>9.000000</td>\n",
              "      <td>NaN</td>\n",
              "      <td>NaN</td>\n",
              "      <td>0.000000</td>\n",
              "    </tr>\n",
              "    <tr>\n",
              "      <th>50%</th>\n",
              "      <td>5.920000</td>\n",
              "      <td>1081.000000</td>\n",
              "      <td>18.750000</td>\n",
              "      <td>NaN</td>\n",
              "      <td>NaN</td>\n",
              "      <td>12.200000</td>\n",
              "    </tr>\n",
              "    <tr>\n",
              "      <th>75%</th>\n",
              "      <td>14.500000</td>\n",
              "      <td>1888.000000</td>\n",
              "      <td>38.750000</td>\n",
              "      <td>NaN</td>\n",
              "      <td>NaN</td>\n",
              "      <td>20.800000</td>\n",
              "    </tr>\n",
              "    <tr>\n",
              "      <th>max</th>\n",
              "      <td>68.120000</td>\n",
              "      <td>7140.000000</td>\n",
              "      <td>159.250000</td>\n",
              "      <td>NaN</td>\n",
              "      <td>NaN</td>\n",
              "      <td>648.600000</td>\n",
              "    </tr>\n",
              "  </tbody>\n",
              "</table>\n",
              "</div>"
            ],
            "text/plain": [
              "          TRIP_MILES  TRIP_SECONDS          FARE    COMPANY PAYMENT_TYPE  \\\n",
              "count   31694.000000  31694.000000  31694.000000      31694        31694   \n",
              "unique           NaN           NaN           NaN         31            7   \n",
              "top              NaN           NaN           NaN  Flash Cab  Credit Card   \n",
              "freq             NaN           NaN           NaN       7887        14142   \n",
              "mean        8.289463   1319.796397     23.905210        NaN          NaN   \n",
              "std         7.265672    928.932873     16.970022        NaN          NaN   \n",
              "min         0.500000     60.000000      3.250000        NaN          NaN   \n",
              "25%         1.720000    548.000000      9.000000        NaN          NaN   \n",
              "50%         5.920000   1081.000000     18.750000        NaN          NaN   \n",
              "75%        14.500000   1888.000000     38.750000        NaN          NaN   \n",
              "max        68.120000   7140.000000    159.250000        NaN          NaN   \n",
              "\n",
              "            TIP_RATE  \n",
              "count   31694.000000  \n",
              "unique           NaN  \n",
              "top              NaN  \n",
              "freq             NaN  \n",
              "mean       12.965785  \n",
              "std        15.517765  \n",
              "min         0.000000  \n",
              "25%         0.000000  \n",
              "50%        12.200000  \n",
              "75%        20.800000  \n",
              "max       648.600000  "
            ]
          },
          "execution_count": 6,
          "metadata": {},
          "output_type": "execute_result"
        }
      ],
      "source": [
        "#@title Code - View dataset statistics\n",
        "\n",
        "print('Total number of rows: {0}\\n\\n'.format(len(training_df.index)))\n",
        "training_df.describe(include='all')"
      ]
    },
    {
      "cell_type": "code",
      "execution_count": 7,
      "metadata": {
        "cellView": "form",
        "id": "VQ9R5o7CcFzY"
      },
      "outputs": [
        {
          "name": "stdout",
          "output_type": "stream",
          "text": [
            "What is the maximum fare? \t\t\t\tAnswer: $159.25\n",
            "What is the mean distance across all trips? \t\tAnswer: 8.2895 miles\n",
            "How many cab companies are in the dataset? \t\tAnswer: 31\n",
            "What is the most frequent payment type? \t\tAnswer: Credit Card\n",
            "Are any features missing data? \t\t\t\tAnswer: No\n"
          ]
        }
      ],
      "source": [
        "#@title Double-click or run to view answers about dataset statistics\n",
        "\n",
        "answer = '''\n",
        "What is the maximum fare? \t\t\t\t              Answer: $159.25\n",
        "What is the mean distance across all trips? \t\tAnswer: 8.2895 miles\n",
        "How many cab companies are in the dataset? \t\t  Answer: 31\n",
        "What is the most frequent payment type? \t\t    Answer: Credit Card\n",
        "Are any features missing data? \t\t\t\t          Answer: No\n",
        "'''\n",
        "\n",
        "# You should be able to find the answers to the questions about the dataset\n",
        "# by inspecting the table output after running the DataFrame describe method.\n",
        "#\n",
        "# Run this code cell to verify your answers.\n",
        "\n",
        "# What is the maximum fare?\n",
        "max_fare = training_df['FARE'].max()\n",
        "print(\"What is the maximum fare? \\t\\t\\t\\tAnswer: ${fare:.2f}\".format(fare = max_fare))\n",
        "\n",
        "# What is the mean distance across all trips?\n",
        "mean_distance = training_df['TRIP_MILES'].mean()\n",
        "print(\"What is the mean distance across all trips? \\t\\tAnswer: {mean:.4f} miles\".format(mean = mean_distance))\n",
        "\n",
        "# How many cab companies are in the dataset?\n",
        "num_unique_companies =  training_df['COMPANY'].nunique()\n",
        "print(\"How many cab companies are in the dataset? \\t\\tAnswer: {number}\".format(number = num_unique_companies))\n",
        "\n",
        "# What is the most frequent payment type?\n",
        "most_freq_payment_type = training_df['PAYMENT_TYPE'].value_counts().idxmax()\n",
        "print(\"What is the most frequent payment type? \\t\\tAnswer: {type}\".format(type = most_freq_payment_type))\n",
        "\n",
        "# Are any features missing data?\n",
        "missing_values = training_df.isnull().sum().sum()\n",
        "print(\"Are any features missing data? \\t\\t\\t\\tAnswer:\", \"No\" if missing_values == 0 else \"Yes\")\n"
      ]
    },
    {
      "cell_type": "markdown",
      "metadata": {
        "id": "-StQ4-wbBpIP"
      },
      "source": [
        "## Generate a correlation matrix\n",
        "\n",
        "An important part of machine learning is determining which [features](https://developers.google.com/machine-learning/glossary/#feature) correlate with the [label](https://developers.google.com/machine-learning/glossary/#label). If you have ever taken a taxi ride before, your experience is probably telling you that the fare is typically associated with the distance traveled and the duration of the trip. But, is there a way for you to learn more about how well these features correlate to the fare (label)?\n",
        "\n",
        "In this step, you will use a **correlation matrix** to identify features whose values correlate well with the label. Correlation values have the following meanings:\n",
        "\n",
        "  * **`1.0`**: perfect positive correlation; that is, when one attribute rises, the other attribute rises.\n",
        "  * **`-1.0`**: perfect negative correlation; that is, when one attribute rises, the other attribute falls.\n",
        "  * **`0.0`**: no correlation; the two columns [are not linearly related](https://en.wikipedia.org/wiki/Correlation_and_dependence#/media/File:Correlation_examples2.svg).\n",
        "\n",
        "In general, the higher the absolute value of a correlation value, the greater its predictive power.\n",
        "\n",
        "**Instructions**\n",
        "\n",
        "1. Inspect the code in the **View correlation matrix** code cell.\n",
        "1. Run the **View correlation matrix** code cell and inspect the output.\n",
        "1. **Check your understanding** by answering these questions:\n",
        "  * Which feature correlates most strongly to the label FARE?\n",
        "  * Which feature correlates least strongly to the label FARE?\n"
      ]
    },
    {
      "cell_type": "code",
      "execution_count": 8,
      "metadata": {
        "cellView": "form",
        "id": "-1kFmfdFDVmv"
      },
      "outputs": [
        {
          "data": {
            "text/html": [
              "<div>\n",
              "<style scoped>\n",
              "    .dataframe tbody tr th:only-of-type {\n",
              "        vertical-align: middle;\n",
              "    }\n",
              "\n",
              "    .dataframe tbody tr th {\n",
              "        vertical-align: top;\n",
              "    }\n",
              "\n",
              "    .dataframe thead th {\n",
              "        text-align: right;\n",
              "    }\n",
              "</style>\n",
              "<table border=\"1\" class=\"dataframe\">\n",
              "  <thead>\n",
              "    <tr style=\"text-align: right;\">\n",
              "      <th></th>\n",
              "      <th>TRIP_MILES</th>\n",
              "      <th>TRIP_SECONDS</th>\n",
              "      <th>FARE</th>\n",
              "      <th>TIP_RATE</th>\n",
              "    </tr>\n",
              "  </thead>\n",
              "  <tbody>\n",
              "    <tr>\n",
              "      <th>TRIP_MILES</th>\n",
              "      <td>1.000000</td>\n",
              "      <td>0.800855</td>\n",
              "      <td>0.975344</td>\n",
              "      <td>-0.049594</td>\n",
              "    </tr>\n",
              "    <tr>\n",
              "      <th>TRIP_SECONDS</th>\n",
              "      <td>0.800855</td>\n",
              "      <td>1.000000</td>\n",
              "      <td>0.830292</td>\n",
              "      <td>-0.084294</td>\n",
              "    </tr>\n",
              "    <tr>\n",
              "      <th>FARE</th>\n",
              "      <td>0.975344</td>\n",
              "      <td>0.830292</td>\n",
              "      <td>1.000000</td>\n",
              "      <td>-0.070979</td>\n",
              "    </tr>\n",
              "    <tr>\n",
              "      <th>TIP_RATE</th>\n",
              "      <td>-0.049594</td>\n",
              "      <td>-0.084294</td>\n",
              "      <td>-0.070979</td>\n",
              "      <td>1.000000</td>\n",
              "    </tr>\n",
              "  </tbody>\n",
              "</table>\n",
              "</div>"
            ],
            "text/plain": [
              "              TRIP_MILES  TRIP_SECONDS      FARE  TIP_RATE\n",
              "TRIP_MILES      1.000000      0.800855  0.975344 -0.049594\n",
              "TRIP_SECONDS    0.800855      1.000000  0.830292 -0.084294\n",
              "FARE            0.975344      0.830292  1.000000 -0.070979\n",
              "TIP_RATE       -0.049594     -0.084294 -0.070979  1.000000"
            ]
          },
          "execution_count": 8,
          "metadata": {},
          "output_type": "execute_result"
        }
      ],
      "source": [
        "#@title Code - View correlation matrix\n",
        "training_df.corr(numeric_only = True)"
      ]
    },
    {
      "cell_type": "code",
      "execution_count": 9,
      "metadata": {
        "cellView": "form",
        "id": "ExPq1h6wIzvR"
      },
      "outputs": [
        {
          "name": "stdout",
          "output_type": "stream",
          "text": [
            "\n",
            "The feature with the strongest correlation to the FARE is TRIP_MILES.\n",
            "As you might expect, TRIP_MILES looks like a good feature to start with to train\n",
            "the model. Also, notice that the feature TRIP_SECONDS has a strong correlation\n",
            "with fare too.\n",
            "\n",
            "The feature with the weakest correlation to the FARE is TIP_RATE.\n"
          ]
        }
      ],
      "source": [
        "#@title Double-click to view answers about the correlation matrix\n",
        "\n",
        "# Which feature correlates most strongly to the label FARE?\n",
        "# ---------------------------------------------------------\n",
        "answer = '''\n",
        "The feature with the strongest correlation to the FARE is TRIP_MILES.\n",
        "As you might expect, TRIP_MILES looks like a good feature to start with to train\n",
        "the model. Also, notice that the feature TRIP_SECONDS has a strong correlation\n",
        "with fare too.\n",
        "'''\n",
        "print(answer)\n",
        "\n",
        "\n",
        "# Which feature correlates least strongly to the label FARE?\n",
        "# -----------------------------------------------------------\n",
        "answer = '''The feature with the weakest correlation to the FARE is TIP_RATE.'''\n",
        "print(answer)"
      ]
    },
    {
      "cell_type": "markdown",
      "metadata": {
        "id": "rqklIw96G7JA"
      },
      "source": [
        "## Visualize relationships in dataset\n",
        "\n",
        "Sometimes it is helpful to visualize relationships between features in a dataset; one way to do this is with a pair plot. A **pair plot** generates a grid of pairwise plots to visualize the relationship of each feature with all other features all in one place.\n",
        "\n",
        "**Instructions**\n",
        "1. Run the **View pair plot** code cell."
      ]
    },
    {
      "cell_type": "code",
      "execution_count": 10,
      "metadata": {
        "cellView": "form",
        "id": "ph0FE7ZxHY36"
      },
      "outputs": [
        {
          "data": {
            "text/plain": [
              "<seaborn.axisgrid.PairGrid at 0x3302d5dc0>"
            ]
          },
          "execution_count": 10,
          "metadata": {},
          "output_type": "execute_result"
        },
        {
          "data": {
            "image/png": "[encoded data removed]",
            "text/plain": [
              "<Figure size 750x750 with 12 Axes>"
            ]
          },
          "metadata": {},
          "output_type": "display_data"
        }
      ],
      "source": [
        "#@title Code - View pairplot\n",
        "sns.pairplot(training_df, x_vars=[\"FARE\", \"TRIP_MILES\", \"TRIP_SECONDS\"], y_vars=[\"FARE\", \"TRIP_MILES\", \"TRIP_SECONDS\"])"
      ]
    },
    {
      "cell_type": "markdown",
      "metadata": {
        "id": "zrereRcYR9KG"
      },
      "source": [
        "# Part 3 - Train Model\n",
        "\n",
        "\n",
        "---\n",
        "\n"
      ]
    },
    {
      "cell_type": "markdown",
      "metadata": {
        "id": "PfRhSs_RR2VI"
      },
      "source": [
        "## Define functions to view model information\n",
        "\n",
        "To help visualize the results of each training run you will generate two plots at the end of each experiment:\n",
        "\n",
        "* a scatter plot of the features vs. the label with a line showing the output of the trained model\n",
        "* a loss curve\n",
        "\n",
        "For this exercise, the plotting functions are provided for you. Unless you are interested, it is not important for you to understand how these plotting functions work.\n",
        "\n",
        "**Instructions**\n",
        "1. Run the **Define plotting functions** code cell."
      ]
    },
    {
      "cell_type": "code",
      "execution_count": 11,
      "metadata": {
        "cellView": "form",
        "id": "EE7nBxoMUtE9"
      },
      "outputs": [
        {
          "name": "stdout",
          "output_type": "stream",
          "text": [
            "SUCCESS: defining plotting functions complete.\n"
          ]
        }
      ],
      "source": [
        "#@title Define plotting functions\n",
        "\n",
        "def make_plots(df, feature_names, label_name, model_output, sample_size=200):\n",
        "\n",
        "  random_sample = df.sample(n=sample_size).copy()\n",
        "  random_sample.reset_index()\n",
        "  weights, bias, epochs, rmse = model_output\n",
        "\n",
        "  is_2d_plot = len(feature_names) == 1\n",
        "  model_plot_type = \"scatter\" if is_2d_plot else \"surface\"\n",
        "  fig = make_subplots(rows=1, cols=2,\n",
        "                      subplot_titles=(\"Loss Curve\", \"Model Plot\"),\n",
        "                      specs=[[{\"type\": \"scatter\"}, {\"type\": model_plot_type}]])\n",
        "\n",
        "  plot_data(random_sample, feature_names, label_name, fig)\n",
        "  plot_model(random_sample, feature_names, weights, bias, fig)\n",
        "  plot_loss_curve(epochs, rmse, fig)\n",
        "\n",
        "  fig.show()\n",
        "  return\n",
        "\n",
        "def plot_loss_curve(epochs, rmse, fig):\n",
        "  curve = px.line(x=epochs, y=rmse)\n",
        "  curve.update_traces(line_color='#ff0000', line_width=3)\n",
        "\n",
        "  fig.append_trace(curve.data[0], row=1, col=1)\n",
        "  fig.update_xaxes(title_text=\"Epoch\", row=1, col=1)\n",
        "  fig.update_yaxes(title_text=\"Root Mean Squared Error\", row=1, col=1, range=[rmse.min()*0.8, rmse.max()])\n",
        "\n",
        "  return\n",
        "\n",
        "def plot_data(df, features, label, fig):\n",
        "  if len(features) == 1:\n",
        "    scatter = px.scatter(df, x=features[0], y=label)\n",
        "  else:\n",
        "    scatter = px.scatter_3d(df, x=features[0], y=features[1], z=label)\n",
        "\n",
        "  fig.append_trace(scatter.data[0], row=1, col=2)\n",
        "  if len(features) == 1:\n",
        "    fig.update_xaxes(title_text=features[0], row=1, col=2)\n",
        "    fig.update_yaxes(title_text=label, row=1, col=2)\n",
        "  else:\n",
        "    fig.update_layout(scene1=dict(xaxis_title=features[0], yaxis_title=features[1], zaxis_title=label))\n",
        "\n",
        "  return\n",
        "\n",
        "def plot_model(df, features, weights, bias, fig):\n",
        "  df['FARE_PREDICTED'] = bias[0]\n",
        "\n",
        "  for index, feature in enumerate(features):\n",
        "    df['FARE_PREDICTED'] = df['FARE_PREDICTED'] + weights[index][0] * df[feature]\n",
        "\n",
        "  if len(features) == 1:\n",
        "    model = px.line(df, x=features[0], y='FARE_PREDICTED')\n",
        "    model.update_traces(line_color='#ff0000', line_width=3)\n",
        "  else:\n",
        "    z_name, y_name = \"FARE_PREDICTED\", features[1]\n",
        "    z = [df[z_name].min(), (df[z_name].max() - df[z_name].min()) / 2, df[z_name].max()]\n",
        "    y = [df[y_name].min(), (df[y_name].max() - df[y_name].min()) / 2, df[y_name].max()]\n",
        "    x = []\n",
        "    for i in range(len(y)):\n",
        "      x.append((z[i] - weights[1][0] * y[i] - bias[0]) / weights[0][0])\n",
        "\n",
        "    plane=pd.DataFrame({'x':x, 'y':y, 'z':[z] * 3})\n",
        "\n",
        "    light_yellow = [[0, '#89CFF0'], [1, '#FFDB58']]\n",
        "    model = go.Figure(data=go.Surface(x=plane['x'], y=plane['y'], z=plane['z'],\n",
        "                                      colorscale=light_yellow))\n",
        "\n",
        "  fig.add_trace(model.data[0], row=1, col=2)\n",
        "\n",
        "  return\n",
        "\n",
        "def model_info(feature_names, label_name, model_output):\n",
        "  weights = model_output[0]\n",
        "  bias = model_output[1]\n",
        "\n",
        "  nl = \"\\n\"\n",
        "  header = \"-\" * 80\n",
        "  banner = header + nl + \"|\" + \"MODEL INFO\".center(78) + \"|\" + nl + header\n",
        "\n",
        "  info = \"\"\n",
        "  equation = label_name + \" = \"\n",
        "\n",
        "  for index, feature in enumerate(feature_names):\n",
        "    info = info + \"Weight for feature[{}]: {:.3f}\\n\".format(feature, weights[index][0])\n",
        "    equation = equation + \"{:.3f} * {} + \".format(weights[index][0], feature)\n",
        "\n",
        "  info = info + \"Bias: {:.3f}\\n\".format(bias[0])\n",
        "  equation = equation + \"{:.3f}\\n\".format(bias[0])\n",
        "\n",
        "  return banner + nl + info + nl + equation\n",
        "\n",
        "print(\"SUCCESS: defining plotting functions complete.\")"
      ]
    },
    {
      "cell_type": "markdown",
      "metadata": {
        "id": "iRluiQhNvTwc"
      },
      "source": [
        "## Define functions to build and train a model\n",
        "\n",
        "The code you need to build and train your model is in the **Define ML functions** code cell. If you would like to explore this code, expand the code cell and take a look.\n",
        "\n",
        "**Instructions**\n",
        "1. Run the **Define ML functions** code cell."
      ]
    },
    {
      "cell_type": "code",
      "execution_count": 12,
      "metadata": {
        "cellView": "form",
        "id": "W6a7dtcCob-n"
      },
      "outputs": [
        {
          "name": "stdout",
          "output_type": "stream",
          "text": [
            "SUCCESS: defining linear regression functions complete.\n"
          ]
        }
      ],
      "source": [
        "#@title Code - Define ML functions\n",
        "\n",
        "def build_model(my_learning_rate, num_features):\n",
        "  \"\"\"Create and compile a simple linear regression model.\"\"\"\n",
        "  # Describe the topography of the model.\n",
        "  # The topography of a simple linear regression model\n",
        "  # is a single node in a single layer.\n",
        "  inputs = keras.Input(shape=(num_features,))\n",
        "  outputs = keras.layers.Dense(units=1)(inputs)\n",
        "  model = keras.Model(inputs=inputs, outputs=outputs)\n",
        "\n",
        "  # Compile the model topography into code that Keras can efficiently\n",
        "  # execute. Configure training to minimize the model's mean squared error.\n",
        "  model.compile(optimizer=keras.optimizers.RMSprop(learning_rate=my_learning_rate),\n",
        "                loss=\"mean_squared_error\",\n",
        "                metrics=[keras.metrics.RootMeanSquaredError()])\n",
        "\n",
        "  return model\n",
        "\n",
        "\n",
        "def train_model(model, df, features, label, epochs, batch_size):\n",
        "  \"\"\"Train the model by feeding it data.\"\"\"\n",
        "\n",
        "  # Feed the model the feature and the label.\n",
        "  # The model will train for the specified number of epochs.\n",
        "  # input_x = df.iloc[:,1:3].values\n",
        "  # df[feature]\n",
        "  history = model.fit(x=features,\n",
        "                      y=label,\n",
        "                      batch_size=batch_size,\n",
        "                      epochs=epochs)\n",
        "\n",
        "  # Gather the trained model's weight and bias.\n",
        "  trained_weight = model.get_weights()[0]\n",
        "  trained_bias = model.get_weights()[1]\n",
        "\n",
        "  # The list of epochs is stored separately from the rest of history.\n",
        "  epochs = history.epoch\n",
        "\n",
        "  # Isolate the error for each epoch.\n",
        "  hist = pd.DataFrame(history.history)\n",
        "\n",
        "  # To track the progression of training, we're going to take a snapshot\n",
        "  # of the model's root mean squared error at each epoch.\n",
        "  rmse = hist[\"root_mean_squared_error\"]\n",
        "\n",
        "  return trained_weight, trained_bias, epochs, rmse\n",
        "\n",
        "\n",
        "def run_experiment(df, feature_names, label_name, learning_rate, epochs, batch_size):\n",
        "\n",
        "  print('INFO: starting training experiment with features={} and label={}\\n'.format(feature_names, label_name))\n",
        "\n",
        "  num_features = len(feature_names)\n",
        "\n",
        "  features = df.loc[:, feature_names].values\n",
        "  label = df[label_name].values\n",
        "\n",
        "  model = build_model(learning_rate, num_features)\n",
        "  model_output = train_model(model, df, features, label, epochs, batch_size)\n",
        "\n",
        "  print('\\nSUCCESS: training experiment complete\\n')\n",
        "  print('{}'.format(model_info(feature_names, label_name, model_output)))\n",
        "  make_plots(df, feature_names, label_name, model_output)\n",
        "\n",
        "  return model\n",
        "\n",
        "print(\"SUCCESS: defining linear regression functions complete.\")"
      ]
    },
    {
      "cell_type": "markdown",
      "metadata": {
        "id": "m3DQCE2OpH4-"
      },
      "source": [
        "## Train a model with one feature\n",
        "\n",
        "In this step you will train a model to predict the cost of the fare using a **single feature**. Earlier, you saw that `TRIP_MILES` (distance) correlates most strongly with the ``FARE``, so let's start with `TRIP_MILES` as the feature for your first training run.\n",
        "\n",
        "**Instructions**\n",
        "\n",
        "1. Run the **Experiment 1** code cell to build your model with one feature.\n",
        "1. Review the output from the training run\n",
        "1. **Check your understanding** by answering these questions:\n",
        "  * How many epochs did it take to converge on the final model?\n",
        "  * How well does the model fit the sample data?\n",
        "\n",
        "During training, you should see the root mean square error (RMSE) in the output. The units for RMSE are the same as the units for the label (dollars). In other words, you can use the RMSE to determine how far off, on average, the predicted fares are in dollars from the observed values."
      ]
    },
    {
      "cell_type": "code",
      "execution_count": 20,
      "metadata": {
        "cellView": "form",
        "id": "F_17Aum6IG1F"
      },
      "outputs": [
        {
          "name": "stdout",
          "output_type": "stream",
          "text": [
            "INFO: starting training experiment with features=['TRIP_MILES'] and label=FARE\n",
            "\n",
            "Epoch 1/20\n",
            "\u001b[1m634/634\u001b[0m \u001b[32m━━━━━━━━━━━━━━━━━━━━\u001b[0m\u001b[37m\u001b[0m \u001b[1m0s\u001b[0m 332us/step - loss: 799.0735 - root_mean_squared_error: 28.2365\n",
            "Epoch 2/20\n",
            "\u001b[1m634/634\u001b[0m \u001b[32m━━━━━━━━━━━━━━━━━━━━\u001b[0m\u001b[37m\u001b[0m \u001b[1m0s\u001b[0m 314us/step - loss: 440.9607 - root_mean_squared_error: 20.9716\n",
            "Epoch 3/20\n",
            "\u001b[1m634/634\u001b[0m \u001b[32m━━━━━━━━━━━━━━━━━━━━\u001b[0m\u001b[37m\u001b[0m \u001b[1m0s\u001b[0m 323us/step - loss: 191.3826 - root_mean_squared_error: 13.8004\n",
            "Epoch 4/20\n",
            "\u001b[1m634/634\u001b[0m \u001b[32m━━━━━━━━━━━━━━━━━━━━\u001b[0m\u001b[37m\u001b[0m \u001b[1m0s\u001b[0m 307us/step - loss: 51.9257 - root_mean_squared_error: 7.1752\n",
            "Epoch 5/20\n",
            "\u001b[1m634/634\u001b[0m \u001b[32m━━━━━━━━━━━━━━━━━━━━\u001b[0m\u001b[37m\u001b[0m \u001b[1m0s\u001b[0m 309us/step - loss: 17.0030 - root_mean_squared_error: 4.1201\n",
            "Epoch 6/20\n",
            "\u001b[1m634/634\u001b[0m \u001b[32m━━━━━━━━━━━━━━━━━━━━\u001b[0m\u001b[37m\u001b[0m \u001b[1m0s\u001b[0m 312us/step - loss: 14.6221 - root_mean_squared_error: 3.8225\n",
            "Epoch 7/20\n",
            "\u001b[1m634/634\u001b[0m \u001b[32m━━━━━━━━━━━━━━━━━━━━\u001b[0m\u001b[37m\u001b[0m \u001b[1m0s\u001b[0m 324us/step - loss: 13.9896 - root_mean_squared_error: 3.7358\n",
            "Epoch 8/20\n",
            "\u001b[1m634/634\u001b[0m \u001b[32m━━━━━━━━━━━━━━━━━━━━\u001b[0m\u001b[37m\u001b[0m \u001b[1m0s\u001b[0m 323us/step - loss: 13.1812 - root_mean_squared_error: 3.6263\n",
            "Epoch 9/20\n",
            "\u001b[1m634/634\u001b[0m \u001b[32m━━━━━━━━━━━━━━━━━━━━\u001b[0m\u001b[37m\u001b[0m \u001b[1m0s\u001b[0m 308us/step - loss: 14.1282 - root_mean_squared_error: 3.7547\n",
            "Epoch 10/20\n",
            "\u001b[1m634/634\u001b[0m \u001b[32m━━━━━━━━━━━━━━━━━━━━\u001b[0m\u001b[37m\u001b[0m \u001b[1m0s\u001b[0m 342us/step - loss: 13.9715 - root_mean_squared_error: 3.7315\n",
            "Epoch 11/20\n",
            "\u001b[1m634/634\u001b[0m \u001b[32m━━━━━━━━━━━━━━━━━━━━\u001b[0m\u001b[37m\u001b[0m \u001b[1m0s\u001b[0m 311us/step - loss: 13.7283 - root_mean_squared_error: 3.7006\n",
            "Epoch 12/20\n",
            "\u001b[1m634/634\u001b[0m \u001b[32m━━━━━━━━━━━━━━━━━━━━\u001b[0m\u001b[37m\u001b[0m \u001b[1m0s\u001b[0m 310us/step - loss: 13.1868 - root_mean_squared_error: 3.6271\n",
            "Epoch 13/20\n",
            "\u001b[1m634/634\u001b[0m \u001b[32m━━━━━━━━━━━━━━━━━━━━\u001b[0m\u001b[37m\u001b[0m \u001b[1m0s\u001b[0m 358us/step - loss: 14.8001 - root_mean_squared_error: 3.8408\n",
            "Epoch 14/20\n",
            "\u001b[1m634/634\u001b[0m \u001b[32m━━━━━━━━━━━━━━━━━━━━\u001b[0m\u001b[37m\u001b[0m \u001b[1m0s\u001b[0m 355us/step - loss: 13.0800 - root_mean_squared_error: 3.6132\n",
            "Epoch 15/20\n",
            "\u001b[1m634/634\u001b[0m \u001b[32m━━━━━━━━━━━━━━━━━━━━\u001b[0m\u001b[37m\u001b[0m \u001b[1m0s\u001b[0m 354us/step - loss: 13.8369 - root_mean_squared_error: 3.7163\n",
            "Epoch 16/20\n",
            "\u001b[1m634/634\u001b[0m \u001b[32m━━━━━━━━━━━━━━━━━━━━\u001b[0m\u001b[37m\u001b[0m \u001b[1m0s\u001b[0m 373us/step - loss: 14.5526 - root_mean_squared_error: 3.8002\n",
            "Epoch 17/20\n",
            "\u001b[1m634/634\u001b[0m \u001b[32m━━━━━━━━━━━━━━━━━━━━\u001b[0m\u001b[37m\u001b[0m \u001b[1m0s\u001b[0m 372us/step - loss: 13.5809 - root_mean_squared_error: 3.6787\n",
            "Epoch 18/20\n",
            "\u001b[1m634/634\u001b[0m \u001b[32m━━━━━━━━━━━━━━━━━━━━\u001b[0m\u001b[37m\u001b[0m \u001b[1m0s\u001b[0m 366us/step - loss: 13.8702 - root_mean_squared_error: 3.7198\n",
            "Epoch 19/20\n",
            "\u001b[1m634/634\u001b[0m \u001b[32m━━━━━━━━━━━━━━━━━━━━\u001b[0m\u001b[37m\u001b[0m \u001b[1m0s\u001b[0m 333us/step - loss: 13.0605 - root_mean_squared_error: 3.6097\n",
            "Epoch 20/20\n",
            "\u001b[1m634/634\u001b[0m \u001b[32m━━━━━━━━━━━━━━━━━━━━\u001b[0m\u001b[37m\u001b[0m \u001b[1m0s\u001b[0m 372us/step - loss: 13.7305 - root_mean_squared_error: 3.6941\n",
            "\n",
            "SUCCESS: training experiment complete\n",
            "\n",
            "--------------------------------------------------------------------------------\n",
            "|                                  MODEL INFO                                  |\n",
            "--------------------------------------------------------------------------------\n",
            "Weight for feature[TRIP_MILES]: 2.278\n",
            "Bias: 4.976\n",
            "\n",
            "FARE = 2.278 * TRIP_MILES + 4.976\n",
            "\n"
          ]
        },
        {
          "data": {
            "application/vnd.plotly.v1+json": {
              "config": {
                "plotlyServerURL": "https://plot.ly"
              },
              "data": [
                {
                  "hovertemplate": "TRIP_MILES=%{x}<br>FARE=%{y}<extra></extra>",
                  "legendgroup": "",
                  "marker": {
                    "color": "#636efa",
                    "symbol": "circle"
                  },
                  "mode": "markers",
                  "name": "",
                  "orientation": "v",
                  "showlegend": false,
                  "type": "scatter",
                  "x": {
                    "bdata": "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",
                    "dtype": "f8"
                  },
                  "xaxis": "x2",
                  "y": {
                    "bdata": "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",
                    "dtype": "f8"
                  },
                  "yaxis": "y2"
                },
                {
                  "hovertemplate": "TRIP_MILES=%{x}<br>FARE_PREDICTED=%{y}<extra></extra>",
                  "legendgroup": "",
                  "line": {
                    "color": "#ff0000",
                    "dash": "solid",
                    "width": 3
                  },
                  "marker": {
                    "symbol": "circle"
                  },
                  "mode": "lines",
                  "name": "",
                  "orientation": "v",
                  "showlegend": false,
                  "type": "scatter",
                  "x": {
                    "bdata": "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",
                    "dtype": "f8"
                  },
                  "xaxis": "x2",
                  "y": {
                    "bdata": "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",
                    "dtype": "f8"
                  },
                  "yaxis": "y2"
                },
                {
                  "hovertemplate": "x=%{x}<br>y=%{y}<extra></extra>",
                  "legendgroup": "",
                  "line": {
                    "color": "#ff0000",
                    "dash": "solid",
                    "width": 3
                  },
                  "marker": {
                    "symbol": "circle"
                  },
                  "mode": "lines",
                  "name": "",
                  "orientation": "v",
                  "showlegend": false,
                  "type": "scatter",
                  "x": {
                    "bdata": "AAECAwQFBgcICQoLDA0ODxAREhM=",
                    "dtype": "i1"
                  },
                  "xaxis": "x",
                  "y": {
                    "bdata": "AAAAwNhROkAAAAAAbi0zQAAAAIBAaShAAAAAwHp9GEAAAAAAXSIQQAAAAEDnUQ9AAAAAIO2yDkAAAADAVFEOQAAAAOAYHg5AAAAAgLMHDkAAAADg1P0NQAAAAIAw+g1AAAAA4BP5DUAAAABgJ/YNQAAAAADe9w1AAAAAQIv3DUAAAAAgTfcNQAAAAKBv9w1AAAAAIBb3DUAAAADg+PcNQA==",
                    "dtype": "f8"
                  },
                  "yaxis": "y"
                }
              ],
              "layout": {
                "annotations": [
                  {
                    "font": {
                      "size": 16
                    },
                    "showarrow": false,
                    "text": "Loss Curve",
                    "x": 0.225,
                    "xanchor": "center",
                    "xref": "paper",
                    "y": 1,
                    "yanchor": "bottom",
                    "yref": "paper"
                  },
                  {
                    "font": {
                      "size": 16
                    },
                    "showarrow": false,
                    "text": "Model Plot",
                    "x": 0.775,
                    "xanchor": "center",
                    "xref": "paper",
                    "y": 1,
                    "yanchor": "bottom",
                    "yref": "paper"
                  }
                ],
                "template": {
                  "data": {
                    "bar": [
                      {
                        "error_x": {
                          "color": "#2a3f5f"
                        },
                        "error_y": {
                          "color": "#2a3f5f"
                        },
                        "marker": {
                          "line": {
                            "color": "#E5ECF6",
                            "width": 0.5
                          },
                          "pattern": {
                            "fillmode": "overlay",
                            "size": 10,
                            "solidity": 0.2
                          }
                        },
                        "type": "bar"
                      }
                    ],
                    "barpolar": [
                      {
                        "marker": {
                          "line": {
                            "color": "#E5ECF6",
                            "width": 0.5
                          },
                          "pattern": {
                            "fillmode": "overlay",
                            "size": 10,
                            "solidity": 0.2
                          }
                        },
                        "type": "barpolar"
                      }
                    ],
                    "carpet": [
                      {
                        "aaxis": {
                          "endlinecolor": "#2a3f5f",
                          "gridcolor": "white",
                          "linecolor": "white",
                          "minorgridcolor": "white",
                          "startlinecolor": "#2a3f5f"
                        },
                        "baxis": {
                          "endlinecolor": "#2a3f5f",
                          "gridcolor": "white",
                          "linecolor": "white",
                          "minorgridcolor": "white",
                          "startlinecolor": "#2a3f5f"
                        },
                        "type": "carpet"
                      }
                    ],
                    "choropleth": [
                      {
                        "colorbar": {
                          "outlinewidth": 0,
                          "ticks": ""
                        },
                        "type": "choropleth"
                      }
                    ],
                    "contour": [
                      {
                        "colorbar": {
                          "outlinewidth": 0,
                          "ticks": ""
                        },
                        "colorscale": [
                          [
                            0,
                            "#0d0887"
                          ],
                          [
                            0.1111111111111111,
                            "#46039f"
                          ],
                          [
                            0.2222222222222222,
                            "#7201a8"
                          ],
                          [
                            0.3333333333333333,
                            "#9c179e"
                          ],
                          [
                            0.4444444444444444,
                            "#bd3786"
                          ],
                          [
                            0.5555555555555556,
                            "#d8576b"
                          ],
                          [
                            0.6666666666666666,
                            "#ed7953"
                          ],
                          [
                            0.7777777777777778,
                            "#fb9f3a"
                          ],
                          [
                            0.8888888888888888,
                            "#fdca26"
                          ],
                          [
                            1,
                            "#f0f921"
                          ]
                        ],
                        "type": "contour"
                      }
                    ],
                    "contourcarpet": [
                      {
                        "colorbar": {
                          "outlinewidth": 0,
                          "ticks": ""
                        },
                        "type": "contourcarpet"
                      }
                    ],
                    "heatmap": [
                      {
                        "colorbar": {
                          "outlinewidth": 0,
                          "ticks": ""
                        },
                        "colorscale": [
                          [
                            0,
                            "#0d0887"
                          ],
                          [
                            0.1111111111111111,
                            "#46039f"
                          ],
                          [
                            0.2222222222222222,
                            "#7201a8"
                          ],
                          [
                            0.3333333333333333,
                            "#9c179e"
                          ],
                          [
                            0.4444444444444444,
                            "#bd3786"
                          ],
                          [
                            0.5555555555555556,
                            "#d8576b"
                          ],
                          [
                            0.6666666666666666,
                            "#ed7953"
                          ],
                          [
                            0.7777777777777778,
                            "#fb9f3a"
                          ],
                          [
                            0.8888888888888888,
                            "#fdca26"
                          ],
                          [
                            1,
                            "#f0f921"
                          ]
                        ],
                        "type": "heatmap"
                      }
                    ],
                    "histogram": [
                      {
                        "marker": {
                          "pattern": {
                            "fillmode": "overlay",
                            "size": 10,
                            "solidity": 0.2
                          }
                        },
                        "type": "histogram"
                      }
                    ],
                    "histogram2d": [
                      {
                        "colorbar": {
                          "outlinewidth": 0,
                          "ticks": ""
                        },
                        "colorscale": [
                          [
                            0,
                            "#0d0887"
                          ],
                          [
                            0.1111111111111111,
                            "#46039f"
                          ],
                          [
                            0.2222222222222222,
                            "#7201a8"
                          ],
                          [
                            0.3333333333333333,
                            "#9c179e"
                          ],
                          [
                            0.4444444444444444,
                            "#bd3786"
                          ],
                          [
                            0.5555555555555556,
                            "#d8576b"
                          ],
                          [
                            0.6666666666666666,
                            "#ed7953"
                          ],
                          [
                            0.7777777777777778,
                            "#fb9f3a"
                          ],
                          [
                            0.8888888888888888,
                            "#fdca26"
                          ],
                          [
                            1,
                            "#f0f921"
                          ]
                        ],
                        "type": "histogram2d"
                      }
                    ],
                    "histogram2dcontour": [
                      {
                        "colorbar": {
                          "outlinewidth": 0,
                          "ticks": ""
                        },
                        "colorscale": [
                          [
                            0,
                            "#0d0887"
                          ],
                          [
                            0.1111111111111111,
                            "#46039f"
                          ],
                          [
                            0.2222222222222222,
                            "#7201a8"
                          ],
                          [
                            0.3333333333333333,
                            "#9c179e"
                          ],
                          [
                            0.4444444444444444,
                            "#bd3786"
                          ],
                          [
                            0.5555555555555556,
                            "#d8576b"
                          ],
                          [
                            0.6666666666666666,
                            "#ed7953"
                          ],
                          [
                            0.7777777777777778,
                            "#fb9f3a"
                          ],
                          [
                            0.8888888888888888,
                            "#fdca26"
                          ],
                          [
                            1,
                            "#f0f921"
                          ]
                        ],
                        "type": "histogram2dcontour"
                      }
                    ],
                    "mesh3d": [
                      {
                        "colorbar": {
                          "outlinewidth": 0,
                          "ticks": ""
                        },
                        "type": "mesh3d"
                      }
                    ],
                    "parcoords": [
                      {
                        "line": {
                          "colorbar": {
                            "outlinewidth": 0,
                            "ticks": ""
                          }
                        },
                        "type": "parcoords"
                      }
                    ],
                    "pie": [
                      {
                        "automargin": true,
                        "type": "pie"
                      }
                    ],
                    "scatter": [
                      {
                        "fillpattern": {
                          "fillmode": "overlay",
                          "size": 10,
                          "solidity": 0.2
                        },
                        "type": "scatter"
                      }
                    ],
                    "scatter3d": [
                      {
                        "line": {
                          "colorbar": {
                            "outlinewidth": 0,
                            "ticks": ""
                          }
                        },
                        "marker": {
                          "colorbar": {
                            "outlinewidth": 0,
                            "ticks": ""
                          }
                        },
                        "type": "scatter3d"
                      }
                    ],
                    "scattercarpet": [
                      {
                        "marker": {
                          "colorbar": {
                            "outlinewidth": 0,
                            "ticks": ""
                          }
                        },
                        "type": "scattercarpet"
                      }
                    ],
                    "scattergeo": [
                      {
                        "marker": {
                          "colorbar": {
                            "outlinewidth": 0,
                            "ticks": ""
                          }
                        },
                        "type": "scattergeo"
                      }
                    ],
                    "scattergl": [
                      {
                        "marker": {
                          "colorbar": {
                            "outlinewidth": 0,
                            "ticks": ""
                          }
                        },
                        "type": "scattergl"
                      }
                    ],
                    "scattermap": [
                      {
                        "marker": {
                          "colorbar": {
                            "outlinewidth": 0,
                            "ticks": ""
                          }
                        },
                        "type": "scattermap"
                      }
                    ],
                    "scattermapbox": [
                      {
                        "marker": {
                          "colorbar": {
                            "outlinewidth": 0,
                            "ticks": ""
                          }
                        },
                        "type": "scattermapbox"
                      }
                    ],
                    "scatterpolar": [
                      {
                        "marker": {
                          "colorbar": {
                            "outlinewidth": 0,
                            "ticks": ""
                          }
                        },
                        "type": "scatterpolar"
                      }
                    ],
                    "scatterpolargl": [
                      {
                        "marker": {
                          "colorbar": {
                            "outlinewidth": 0,
                            "ticks": ""
                          }
                        },
                        "type": "scatterpolargl"
                      }
                    ],
                    "scatterternary": [
                      {
                        "marker": {
                          "colorbar": {
                            "outlinewidth": 0,
                            "ticks": ""
                          }
                        },
                        "type": "scatterternary"
                      }
                    ],
                    "surface": [
                      {
                        "colorbar": {
                          "outlinewidth": 0,
                          "ticks": ""
                        },
                        "colorscale": [
                          [
                            0,
                            "#0d0887"
                          ],
                          [
                            0.1111111111111111,
                            "#46039f"
                          ],
                          [
                            0.2222222222222222,
                            "#7201a8"
                          ],
                          [
                            0.3333333333333333,
                            "#9c179e"
                          ],
                          [
                            0.4444444444444444,
                            "#bd3786"
                          ],
                          [
                            0.5555555555555556,
                            "#d8576b"
                          ],
                          [
                            0.6666666666666666,
                            "#ed7953"
                          ],
                          [
                            0.7777777777777778,
                            "#fb9f3a"
                          ],
                          [
                            0.8888888888888888,
                            "#fdca26"
                          ],
                          [
                            1,
                            "#f0f921"
                          ]
                        ],
                        "type": "surface"
                      }
                    ],
                    "table": [
                      {
                        "cells": {
                          "fill": {
                            "color": "#EBF0F8"
                          },
                          "line": {
                            "color": "white"
                          }
                        },
                        "header": {
                          "fill": {
                            "color": "#C8D4E3"
                          },
                          "line": {
                            "color": "white"
                          }
                        },
                        "type": "table"
                      }
                    ]
                  },
                  "layout": {
                    "annotationdefaults": {
                      "arrowcolor": "#2a3f5f",
                      "arrowhead": 0,
                      "arrowwidth": 1
                    },
                    "autotypenumbers": "strict",
                    "coloraxis": {
                      "colorbar": {
                        "outlinewidth": 0,
                        "ticks": ""
                      }
                    },
                    "colorscale": {
                      "diverging": [
                        [
                          0,
                          "#8e0152"
                        ],
                        [
                          0.1,
                          "#c51b7d"
                        ],
                        [
                          0.2,
                          "#de77ae"
                        ],
                        [
                          0.3,
                          "#f1b6da"
                        ],
                        [
                          0.4,
                          "#fde0ef"
                        ],
                        [
                          0.5,
                          "#f7f7f7"
                        ],
                        [
                          0.6,
                          "#e6f5d0"
                        ],
                        [
                          0.7,
                          "#b8e186"
                        ],
                        [
                          0.8,
                          "#7fbc41"
                        ],
                        [
                          0.9,
                          "#4d9221"
                        ],
                        [
                          1,
                          "#276419"
                        ]
                      ],
                      "sequential": [
                        [
                          0,
                          "#0d0887"
                        ],
                        [
                          0.1111111111111111,
                          "#46039f"
                        ],
                        [
                          0.2222222222222222,
                          "#7201a8"
                        ],
                        [
                          0.3333333333333333,
                          "#9c179e"
                        ],
                        [
                          0.4444444444444444,
                          "#bd3786"
                        ],
                        [
                          0.5555555555555556,
                          "#d8576b"
                        ],
                        [
                          0.6666666666666666,
                          "#ed7953"
                        ],
                        [
                          0.7777777777777778,
                          "#fb9f3a"
                        ],
                        [
                          0.8888888888888888,
                          "#fdca26"
                        ],
                        [
                          1,
                          "#f0f921"
                        ]
                      ],
                      "sequentialminus": [
                        [
                          0,
                          "#0d0887"
                        ],
                        [
                          0.1111111111111111,
                          "#46039f"
                        ],
                        [
                          0.2222222222222222,
                          "#7201a8"
                        ],
                        [
                          0.3333333333333333,
                          "#9c179e"
                        ],
                        [
                          0.4444444444444444,
                          "#bd3786"
                        ],
                        [
                          0.5555555555555556,
                          "#d8576b"
                        ],
                        [
                          0.6666666666666666,
                          "#ed7953"
                        ],
                        [
                          0.7777777777777778,
                          "#fb9f3a"
                        ],
                        [
                          0.8888888888888888,
                          "#fdca26"
                        ],
                        [
                          1,
                          "#f0f921"
                        ]
                      ]
                    },
                    "colorway": [
                      "#636efa",
                      "#EF553B",
                      "#00cc96",
                      "#ab63fa",
                      "#FFA15A",
                      "#19d3f3",
                      "#FF6692",
                      "#B6E880",
                      "#FF97FF",
                      "#FECB52"
                    ],
                    "font": {
                      "color": "#2a3f5f"
                    },
                    "geo": {
                      "bgcolor": "white",
                      "lakecolor": "white",
                      "landcolor": "#E5ECF6",
                      "showlakes": true,
                      "showland": true,
                      "subunitcolor": "white"
                    },
                    "hoverlabel": {
                      "align": "left"
                    },
                    "hovermode": "closest",
                    "mapbox": {
                      "style": "light"
                    },
                    "paper_bgcolor": "white",
                    "plot_bgcolor": "#E5ECF6",
                    "polar": {
                      "angularaxis": {
                        "gridcolor": "white",
                        "linecolor": "white",
                        "ticks": ""
                      },
                      "bgcolor": "#E5ECF6",
                      "radialaxis": {
                        "gridcolor": "white",
                        "linecolor": "white",
                        "ticks": ""
                      }
                    },
                    "scene": {
                      "xaxis": {
                        "backgroundcolor": "#E5ECF6",
                        "gridcolor": "white",
                        "gridwidth": 2,
                        "linecolor": "white",
                        "showbackground": true,
                        "ticks": "",
                        "zerolinecolor": "white"
                      },
                      "yaxis": {
                        "backgroundcolor": "#E5ECF6",
                        "gridcolor": "white",
                        "gridwidth": 2,
                        "linecolor": "white",
                        "showbackground": true,
                        "ticks": "",
                        "zerolinecolor": "white"
                      },
                      "zaxis": {
                        "backgroundcolor": "#E5ECF6",
                        "gridcolor": "white",
                        "gridwidth": 2,
                        "linecolor": "white",
                        "showbackground": true,
                        "ticks": "",
                        "zerolinecolor": "white"
                      }
                    },
                    "shapedefaults": {
                      "line": {
                        "color": "#2a3f5f"
                      }
                    },
                    "ternary": {
                      "aaxis": {
                        "gridcolor": "white",
                        "linecolor": "white",
                        "ticks": ""
                      },
                      "baxis": {
                        "gridcolor": "white",
                        "linecolor": "white",
                        "ticks": ""
                      },
                      "bgcolor": "#E5ECF6",
                      "caxis": {
                        "gridcolor": "white",
                        "linecolor": "white",
                        "ticks": ""
                      }
                    },
                    "title": {
                      "x": 0.05
                    },
                    "xaxis": {
                      "automargin": true,
                      "gridcolor": "white",
                      "linecolor": "white",
                      "ticks": "",
                      "title": {
                        "standoff": 15
                      },
                      "zerolinecolor": "white",
                      "zerolinewidth": 2
                    },
                    "yaxis": {
                      "automargin": true,
                      "gridcolor": "white",
                      "linecolor": "white",
                      "ticks": "",
                      "title": {
                        "standoff": 15
                      },
                      "zerolinecolor": "white",
                      "zerolinewidth": 2
                    }
                  }
                },
                "xaxis": {
                  "anchor": "y",
                  "domain": [
                    0,
                    0.45
                  ],
                  "title": {
                    "text": "Epoch"
                  }
                },
                "xaxis2": {
                  "anchor": "y2",
                  "domain": [
                    0.55,
                    1
                  ],
                  "title": {
                    "text": "TRIP_MILES"
                  }
                },
                "yaxis": {
                  "anchor": "x",
                  "domain": [
                    0,
                    1
                  ],
                  "range": [
                    2.9961538314819336,
                    26.319713592529297
                  ],
                  "title": {
                    "text": "Root Mean Squared Error"
                  }
                },
                "yaxis2": {
                  "anchor": "x2",
                  "domain": [
                    0,
                    1
                  ],
                  "title": {
                    "text": "FARE"
                  }
                }
              }
            }
          },
          "metadata": {},
          "output_type": "display_data"
        }
      ],
      "source": [
        "#@title Code - Experiment 1\n",
        "\n",
        "# The following variables are the hyperparameters.\n",
        "learning_rate = 0.001\n",
        "epochs = 20\n",
        "batch_size = 50\n",
        "\n",
        "# Specify the feature and the label.\n",
        "features = ['TRIP_MILES']\n",
        "label = 'FARE'\n",
        "\n",
        "model_1 = run_experiment(training_df, features, label, learning_rate, epochs, batch_size)"
      ]
    },
    {
      "cell_type": "code",
      "execution_count": 14,
      "metadata": {
        "cellView": "form",
        "id": "y8Qnmb0wZ_pQ"
      },
      "outputs": [
        {
          "name": "stdout",
          "output_type": "stream",
          "text": [
            "\n",
            "Use the loss curve to see where the loss begins to level off during training.\n",
            "\n",
            "With this set of hyperparameters:\n",
            "\n",
            "  learning_rate = 0.001\n",
            "  epochs = 20\n",
            "  batch_size = 50\n",
            "\n",
            "it takes about 5 epochs for the training run to converge to the final model.\n",
            "\n",
            "\n",
            "It appears from the model plot that the model fits the sample data fairly well.\n",
            "\n"
          ]
        }
      ],
      "source": [
        "#@title Double-click to view answers for training model with one feature\n",
        "\n",
        "# How many epochs did it take to converge on the final model?\n",
        "# -----------------------------------------------------------------------------\n",
        "answer = \"\"\"\n",
        "Use the loss curve to see where the loss begins to level off during training.\n",
        "\n",
        "With this set of hyperparameters:\n",
        "\n",
        "  learning_rate = 0.001\n",
        "  epochs = 20\n",
        "  batch_size = 50\n",
        "\n",
        "it takes about 5 epochs for the training run to converge to the final model.\n",
        "\"\"\"\n",
        "print(answer)\n",
        "\n",
        "# How well does the model fit the sample data?\n",
        "# -----------------------------------------------------------------------------\n",
        "answer = '''\n",
        "It appears from the model plot that the model fits the sample data fairly well.\n",
        "'''\n",
        "print(answer)"
      ]
    },
    {
      "cell_type": "markdown",
      "metadata": {
        "id": "MYmWW0a9p1ro"
      },
      "source": [
        "## Experiment with hyperparameters\n",
        "\n",
        "It is common with machine learning to run multiple experiments to find the best set of hyperparmeters to train your model. In this step, try varying the hyperparameters one by one with this set of experiments:\n",
        "\n",
        "* *Experiment 1:* **Increase** the learning rate to **``1``** (batch size at ``50``).\n",
        "* *Experiment 2:* **Decrease** the learning rate to **``0.0001``** (batch size at ``50``).\n",
        "* *Experiment 3:* **Increase** the batch size to **``500``** (learning rate at ``0.001``).\n",
        "\n",
        "**Instructions**\n",
        "1. Update the hyperparameter values in the **Experiment 2** code cell according to the experiment.\n",
        "2. Run the **Experiment 2** code cell.\n",
        "3. After the training run, examine the output and note any differences you see in the loss curve or model output.\n",
        "4. Repeat steps 1 - 3 for each hyperparameter experiment.\n",
        "5. **Check your understanding** by answering these questions:\n",
        "  * How did raising the learning rate impact your ability to train the model?\n",
        "  * How did lowering the learning rate impact your ability to train the model?\n",
        "  * Did changing the batch size effect your training results?\n"
      ]
    },
    {
      "cell_type": "code",
      "execution_count": 26,
      "metadata": {
        "cellView": "form",
        "id": "PdUXEm1xeWcK"
      },
      "outputs": [
        {
          "name": "stdout",
          "output_type": "stream",
          "text": [
            "INFO: starting training experiment with features=['TRIP_MILES'] and label=FARE\n",
            "\n",
            "Epoch 1/30\n",
            "\u001b[1m1585/1585\u001b[0m \u001b[32m━━━━━━━━━━━━━━━━━━━━\u001b[0m\u001b[37m\u001b[0m \u001b[1m1s\u001b[0m 317us/step - loss: 1306.2921 - root_mean_squared_error: 36.1339\n",
            "Epoch 2/30\n",
            "\u001b[1m1585/1585\u001b[0m \u001b[32m━━━━━━━━━━━━━━━━━━━━\u001b[0m\u001b[37m\u001b[0m \u001b[1m1s\u001b[0m 394us/step - loss: 1169.9701 - root_mean_squared_error: 34.2019\n",
            "Epoch 3/30\n",
            "\u001b[1m1585/1585\u001b[0m \u001b[32m━━━━━━━━━━━━━━━━━━━━\u001b[0m\u001b[37m\u001b[0m \u001b[1m1s\u001b[0m 398us/step - loss: 1039.5728 - root_mean_squared_error: 32.2388\n",
            "Epoch 4/30\n",
            "\u001b[1m1585/1585\u001b[0m \u001b[32m━━━━━━━━━━━━━━━━━━━━\u001b[0m\u001b[37m\u001b[0m \u001b[1m1s\u001b[0m 331us/step - loss: 937.4634 - root_mean_squared_error: 30.6137\n",
            "Epoch 5/30\n",
            "\u001b[1m1585/1585\u001b[0m \u001b[32m━━━━━━━━━━━━━━━━━━━━\u001b[0m\u001b[37m\u001b[0m \u001b[1m1s\u001b[0m 318us/step - loss: 825.2973 - root_mean_squared_error: 28.7257\n",
            "Epoch 6/30\n",
            "\u001b[1m1585/1585\u001b[0m \u001b[32m━━━━━━━━━━━━━━━━━━━━\u001b[0m\u001b[37m\u001b[0m \u001b[1m0s\u001b[0m 299us/step - loss: 726.1122 - root_mean_squared_error: 26.9451\n",
            "Epoch 7/30\n",
            "\u001b[1m1585/1585\u001b[0m \u001b[32m━━━━━━━━━━━━━━━━━━━━\u001b[0m\u001b[37m\u001b[0m \u001b[1m0s\u001b[0m 295us/step - loss: 646.2454 - root_mean_squared_error: 25.4190\n",
            "Epoch 8/30\n",
            "\u001b[1m1585/1585\u001b[0m \u001b[32m━━━━━━━━━━━━━━━━━━━━\u001b[0m\u001b[37m\u001b[0m \u001b[1m1s\u001b[0m 319us/step - loss: 544.8938 - root_mean_squared_error: 23.3424\n",
            "Epoch 9/30\n",
            "\u001b[1m1585/1585\u001b[0m \u001b[32m━━━━━━━━━━━━━━━━━━━━\u001b[0m\u001b[37m\u001b[0m \u001b[1m1s\u001b[0m 325us/step - loss: 470.0958 - root_mean_squared_error: 21.6805\n",
            "Epoch 10/30\n",
            "\u001b[1m1585/1585\u001b[0m \u001b[32m━━━━━━━━━━━━━━━━━━━━\u001b[0m\u001b[37m\u001b[0m \u001b[1m0s\u001b[0m 298us/step - loss: 396.5287 - root_mean_squared_error: 19.9120\n",
            "Epoch 11/30\n",
            "\u001b[1m1585/1585\u001b[0m \u001b[32m━━━━━━━━━━━━━━━━━━━━\u001b[0m\u001b[37m\u001b[0m \u001b[1m0s\u001b[0m 293us/step - loss: 329.5136 - root_mean_squared_error: 18.1512\n",
            "Epoch 12/30\n",
            "\u001b[1m1585/1585\u001b[0m \u001b[32m━━━━━━━━━━━━━━━━━━━━\u001b[0m\u001b[37m\u001b[0m \u001b[1m0s\u001b[0m 297us/step - loss: 272.2683 - root_mean_squared_error: 16.4987\n",
            "Epoch 13/30\n",
            "\u001b[1m1585/1585\u001b[0m \u001b[32m━━━━━━━━━━━━━━━━━━━━\u001b[0m\u001b[37m\u001b[0m \u001b[1m0s\u001b[0m 304us/step - loss: 215.7420 - root_mean_squared_error: 14.6871\n",
            "Epoch 14/30\n",
            "\u001b[1m1585/1585\u001b[0m \u001b[32m━━━━━━━━━━━━━━━━━━━━\u001b[0m\u001b[37m\u001b[0m \u001b[1m0s\u001b[0m 309us/step - loss: 171.2495 - root_mean_squared_error: 13.0832\n",
            "Epoch 15/30\n",
            "\u001b[1m1585/1585\u001b[0m \u001b[32m━━━━━━━━━━━━━━━━━━━━\u001b[0m\u001b[37m\u001b[0m \u001b[1m0s\u001b[0m 304us/step - loss: 130.0145 - root_mean_squared_error: 11.3999\n",
            "Epoch 16/30\n",
            "\u001b[1m1585/1585\u001b[0m \u001b[32m━━━━━━━━━━━━━━━━━━━━\u001b[0m\u001b[37m\u001b[0m \u001b[1m1s\u001b[0m 329us/step - loss: 95.6097 - root_mean_squared_error: 9.7696\n",
            "Epoch 17/30\n",
            "\u001b[1m1585/1585\u001b[0m \u001b[32m━━━━━━━━━━━━━━━━━━━━\u001b[0m\u001b[37m\u001b[0m \u001b[1m0s\u001b[0m 302us/step - loss: 66.7027 - root_mean_squared_error: 8.1641\n",
            "Epoch 18/30\n",
            "\u001b[1m1585/1585\u001b[0m \u001b[32m━━━━━━━━━━━━━━━━━━━━\u001b[0m\u001b[37m\u001b[0m \u001b[1m0s\u001b[0m 300us/step - loss: 44.6424 - root_mean_squared_error: 6.6778\n",
            "Epoch 19/30\n",
            "\u001b[1m1585/1585\u001b[0m \u001b[32m━━━━━━━━━━━━━━━━━━━━\u001b[0m\u001b[37m\u001b[0m \u001b[1m0s\u001b[0m 306us/step - loss: 28.2779 - root_mean_squared_error: 5.3144\n",
            "Epoch 20/30\n",
            "\u001b[1m1585/1585\u001b[0m \u001b[32m━━━━━━━━━━━━━━━━━━━━\u001b[0m\u001b[37m\u001b[0m \u001b[1m0s\u001b[0m 299us/step - loss: 18.0836 - root_mean_squared_error: 4.2497\n",
            "Epoch 21/30\n",
            "\u001b[1m1585/1585\u001b[0m \u001b[32m━━━━━━━━━━━━━━━━━━━━\u001b[0m\u001b[37m\u001b[0m \u001b[1m0s\u001b[0m 299us/step - loss: 17.4691 - root_mean_squared_error: 4.1631\n",
            "Epoch 22/30\n",
            "\u001b[1m1585/1585\u001b[0m \u001b[32m━━━━━━━━━━━━━━━━━━━━\u001b[0m\u001b[37m\u001b[0m \u001b[1m0s\u001b[0m 295us/step - loss: 15.8030 - root_mean_squared_error: 3.9626\n",
            "Epoch 23/30\n",
            "\u001b[1m1585/1585\u001b[0m \u001b[32m━━━━━━━━━━━━━━━━━━━━\u001b[0m\u001b[37m\u001b[0m \u001b[1m0s\u001b[0m 297us/step - loss: 15.1606 - root_mean_squared_error: 3.8819\n",
            "Epoch 24/30\n",
            "\u001b[1m1585/1585\u001b[0m \u001b[32m━━━━━━━━━━━━━━━━━━━━\u001b[0m\u001b[37m\u001b[0m \u001b[1m0s\u001b[0m 304us/step - loss: 15.1613 - root_mean_squared_error: 3.8853\n",
            "Epoch 25/30\n",
            "\u001b[1m1585/1585\u001b[0m \u001b[32m━━━━━━━━━━━━━━━━━━━━\u001b[0m\u001b[37m\u001b[0m \u001b[1m0s\u001b[0m 306us/step - loss: 15.2569 - root_mean_squared_error: 3.9022\n",
            "Epoch 26/30\n",
            "\u001b[1m1585/1585\u001b[0m \u001b[32m━━━━━━━━━━━━━━━━━━━━\u001b[0m\u001b[37m\u001b[0m \u001b[1m0s\u001b[0m 294us/step - loss: 15.2973 - root_mean_squared_error: 3.9044\n",
            "Epoch 27/30\n",
            "\u001b[1m1585/1585\u001b[0m \u001b[32m━━━━━━━━━━━━━━━━━━━━\u001b[0m\u001b[37m\u001b[0m \u001b[1m0s\u001b[0m 299us/step - loss: 13.9462 - root_mean_squared_error: 3.7230\n",
            "Epoch 28/30\n",
            "\u001b[1m1585/1585\u001b[0m \u001b[32m━━━━━━━━━━━━━━━━━━━━\u001b[0m\u001b[37m\u001b[0m \u001b[1m0s\u001b[0m 299us/step - loss: 16.1162 - root_mean_squared_error: 4.0074\n",
            "Epoch 29/30\n",
            "\u001b[1m1585/1585\u001b[0m \u001b[32m━━━━━━━━━━━━━━━━━━━━\u001b[0m\u001b[37m\u001b[0m \u001b[1m0s\u001b[0m 307us/step - loss: 15.7735 - root_mean_squared_error: 3.9642\n",
            "Epoch 30/30\n",
            "\u001b[1m1585/1585\u001b[0m \u001b[32m━━━━━━━━━━━━━━━━━━━━\u001b[0m\u001b[37m\u001b[0m \u001b[1m0s\u001b[0m 297us/step - loss: 14.1614 - root_mean_squared_error: 3.7531\n",
            "\n",
            "SUCCESS: training experiment complete\n",
            "\n",
            "--------------------------------------------------------------------------------\n",
            "|                                  MODEL INFO                                  |\n",
            "--------------------------------------------------------------------------------\n",
            "Weight for feature[TRIP_MILES]: 2.352\n",
            "Bias: 4.014\n",
            "\n",
            "FARE = 2.352 * TRIP_MILES + 4.014\n",
            "\n"
          ]
        },
        {
          "data": {
            "application/vnd.plotly.v1+json": {
              "config": {
                "plotlyServerURL": "https://plot.ly"
              },
              "data": [
                {
                  "hovertemplate": "TRIP_MILES=%{x}<br>FARE=%{y}<extra></extra>",
                  "legendgroup": "",
                  "marker": {
                    "color": "#636efa",
                    "symbol": "circle"
                  },
                  "mode": "markers",
                  "name": "",
                  "orientation": "v",
                  "showlegend": false,
                  "type": "scatter",
                  "x": {
                    "bdata": "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",
                    "dtype": "f8"
                  },
                  "xaxis": "x2",
                  "y": {
                    "bdata": "AAAAAAAAHUAAAAAAAAAiQAAAAAAAAB5AAAAAAADAO0AAAAAAAIAmQAAAAAAAAB9AzczMzMzML0AAAAAAAAAYQAAAAAAAABRAAAAAAAAAL0AAAAAAAAA+QJqZmZmZWTFAAAAAAAAAIEAAAAAAAEBEQAAAAAAAAB9AAAAAAAAAQkAAAAAAAIA1QAAAAAAAABtAAAAAAAAAHEAAAAAAAAAYQAAAAAAAQEFAAAAAAAAARUAAAAAAAAAkQAAAAAAAgD5AAAAAAADAQ0AAAAAAAAAiQAAAAAAAADxAAAAAAACgSUAAAAAAAAAdQAAAAAAAABxA7FG4HoXrJ0AAAAAAAAAiQAAAAAAAgC5AAAAAAABAP0AAAAAAAAAYQDMzMzMzMy1AAAAAAABANUAAAAAAAGBHQAAAAAAAABVAAAAAAABAR0AAAAAAAMBRQAAAAAAAQEhAAAAAAAAAHkAAAAAAAAAlQAAAAAAAACBAAAAAAADgRUAAAAAAAGBFQAAAAAAAABZA4XoUrkdhMkAAAAAAAAAWQAAAAAAAACBAAAAAAAAAG0CkcD0K16MiQAAAAAAAABlAAAAAAAAAIkAAAAAAAEA3QAAAAAAAoEVAAAAAAACgRkAAAAAAAEAzQEjhehSuxytAAAAAAACAMkAAAAAAAKBFQAAAAAAAAD1AAAAAAACgRkAAAAAAAIAhQAAAAAAAgCZAAAAAAAAAFEAAAAAAAOBHQDMzMzMzMyZAAAAAAAAALkAAAAAAAAAeQAAAAAAAACNAAAAAAACAJ0AAAAAAAAAaQAAAAAAA4EBAXI/C9ShcJ0AAAAAAAIA8QAAAAAAAACJAAAAAAAAAFkAAAAAAAEBGQAAAAAAAwEFAAAAAAACAJkAAAAAAAKBHQAAAAAAAABtAAAAAAAAAJkCamZmZmRkkQAAAAAAAAB1AAAAAAABgRUAAAAAAAGBHQAAAAAAAAEZAAAAAAAAAIkAAAAAAAAAiQAAAAAAAACBAMzMzMzMzJEAAAAAAAOBBQAAAAAAAQDxAAAAAAAAAGEAAAAAAAAAdQAAAAAAAgDtASOF6FK4HQkAAAAAAACBGQAAAAAAAQEpAAAAAAAAAHkAAAAAAAAA6QAAAAAAAACFAAAAAAABAREAAAAAAAAAkQAAAAAAAABlAAAAAAAAAFUAAAAAAAAAiQAAAAAAA4EZAAAAAAAAAKUAzMzMzM7MyQAAAAAAAAC9AUrgehevRI0AAAAAAAAATQAAAAAAAwDRAAAAAAACAKkAAAAAAAIA9QAAAAAAAACxAAAAAAAAAPUAAAAAAAEBGQAAAAAAAwEhAAAAAAAAAFEAAAAAAAMA6QAAAAAAAABVAAAAAAADARUAAAAAAAGBFQAAAAAAAACNAAAAAAAAAE0AAAAAAAIAtQAAAAAAAQERAAAAAAAAgQEAAAAAAAAAcQAAAAAAAABxAAAAAAAAAFUAAAAAAAAAWQAAAAAAAgEBAAAAAAACAK0AAAAAAAIAmQAAAAAAAABFAAAAAAAAAP0AAAAAAACBAQAAAAAAAYERAAAAAAAAAI0AAAAAAAOBAQAAAAAAAgCFAAAAAAAAAIUAAAAAAAAAoQAAAAAAAAEdAAAAAAAAgQ0AAAAAAAAA+QAAAAAAAACZAAAAAAAAAHEAAAAAAAAAeQAAAAAAAABpAAAAAAAAgQ0AAAAAAAIAnQAAAAAAAABtAAAAAAAAAJkAAAAAAAAAiQNejcD0KVyVAAAAAAAAAOkAAAAAAAAAcQAAAAAAAgFJAAAAAAAAAIUAAAAAAAAAkQAAAAAAAIE9AAAAAAAAgQEAAAAAAAAAoQAAAAAAAgDlAAAAAAAAAH0AAAAAAAAAaQAAAAAAAADpAAAAAAABgR0AAAAAAAAAhQAAAAAAAACJAAAAAAAAAGkAAAAAAAAAWQAAAAAAAACZAAAAAAABAQkA9CtejcH0yQAAAAAAAACJAAAAAAAAAGkAAAAAAAIAiQMP1KFyPwiRAAAAAAABAMUAAAAAAAMBJQAAAAAAAwD5AAAAAAACAIkAAAAAAAIAnQAAAAAAAIEBAXI/C9ShcJ0AAAAAAAIA8QAAAAAAA4EhAAAAAAAAAGUAAAAAAAKBBQAAAAAAAgEVAAAAAAADAN0AAAAAAAOBFQA==",
                    "dtype": "f8"
                  },
                  "yaxis": "y2"
                },
                {
                  "hovertemplate": "TRIP_MILES=%{x}<br>FARE_PREDICTED=%{y}<extra></extra>",
                  "legendgroup": "",
                  "line": {
                    "color": "#ff0000",
                    "dash": "solid",
                    "width": 3
                  },
                  "marker": {
                    "symbol": "circle"
                  },
                  "mode": "lines",
                  "name": "",
                  "orientation": "v",
                  "showlegend": false,
                  "type": "scatter",
                  "x": {
                    "bdata": "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",
                    "dtype": "f8"
                  },
                  "xaxis": "x2",
                  "y": {
                    "bdata": "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",
                    "dtype": "f8"
                  },
                  "yaxis": "y2"
                },
                {
                  "hovertemplate": "x=%{x}<br>y=%{y}<extra></extra>",
                  "legendgroup": "",
                  "line": {
                    "color": "#ff0000",
                    "dash": "solid",
                    "width": 3
                  },
                  "marker": {
                    "symbol": "circle"
                  },
                  "mode": "lines",
                  "name": "",
                  "orientation": "v",
                  "showlegend": false,
                  "type": "scatter",
                  "x": {
                    "bdata": "AAECAwQFBgcICQoLDA0ODxAREhMUFRYXGBkaGxwd",
                    "dtype": "i1"
                  },
                  "xaxis": "x",
                  "y": {
                    "bdata": "AAAAIIK0QUAAAABgidJAQAAAACBq3z9AAAAAYFccPkAAAAAAlFg8QAAAACB9lTpAAAAA4HPUOEAAAAAgMxA3QAAAAGCBTzVAAAAAYKSNM0AAAACAy88xQAAAAODrFDBAAAAAIGK3LEAAAACAG1IpQAAAAOBb9SVAAAAAACauIkAAAADAZhQfQAAAACBzQxlAAAAAwMdUFEAAAABgHf8QQAAAAOCpsQ9AAAAAIAVUD0AAAABAwywPQAAAACBYCg9AAAAAgCfrDkAAAADgv80OQAAAACADtA5AAAAAYI2dDkAAAADACYkOQAAAAEAXdg5A",
                    "dtype": "f8"
                  },
                  "yaxis": "y"
                }
              ],
              "layout": {
                "annotations": [
                  {
                    "font": {
                      "size": 16
                    },
                    "showarrow": false,
                    "text": "Loss Curve",
                    "x": 0.225,
                    "xanchor": "center",
                    "xref": "paper",
                    "y": 1,
                    "yanchor": "bottom",
                    "yref": "paper"
                  },
                  {
                    "font": {
                      "size": 16
                    },
                    "showarrow": false,
                    "text": "Model Plot",
                    "x": 0.775,
                    "xanchor": "center",
                    "xref": "paper",
                    "y": 1,
                    "yanchor": "bottom",
                    "yref": "paper"
                  }
                ],
                "template": {
                  "data": {
                    "bar": [
                      {
                        "error_x": {
                          "color": "#2a3f5f"
                        },
                        "error_y": {
                          "color": "#2a3f5f"
                        },
                        "marker": {
                          "line": {
                            "color": "#E5ECF6",
                            "width": 0.5
                          },
                          "pattern": {
                            "fillmode": "overlay",
                            "size": 10,
                            "solidity": 0.2
                          }
                        },
                        "type": "bar"
                      }
                    ],
                    "barpolar": [
                      {
                        "marker": {
                          "line": {
                            "color": "#E5ECF6",
                            "width": 0.5
                          },
                          "pattern": {
                            "fillmode": "overlay",
                            "size": 10,
                            "solidity": 0.2
                          }
                        },
                        "type": "barpolar"
                      }
                    ],
                    "carpet": [
                      {
                        "aaxis": {
                          "endlinecolor": "#2a3f5f",
                          "gridcolor": "white",
                          "linecolor": "white",
                          "minorgridcolor": "white",
                          "startlinecolor": "#2a3f5f"
                        },
                        "baxis": {
                          "endlinecolor": "#2a3f5f",
                          "gridcolor": "white",
                          "linecolor": "white",
                          "minorgridcolor": "white",
                          "startlinecolor": "#2a3f5f"
                        },
                        "type": "carpet"
                      }
                    ],
                    "choropleth": [
                      {
                        "colorbar": {
                          "outlinewidth": 0,
                          "ticks": ""
                        },
                        "type": "choropleth"
                      }
                    ],
                    "contour": [
                      {
                        "colorbar": {
                          "outlinewidth": 0,
                          "ticks": ""
                        },
                        "colorscale": [
                          [
                            0,
                            "#0d0887"
                          ],
                          [
                            0.1111111111111111,
                            "#46039f"
                          ],
                          [
                            0.2222222222222222,
                            "#7201a8"
                          ],
                          [
                            0.3333333333333333,
                            "#9c179e"
                          ],
                          [
                            0.4444444444444444,
                            "#bd3786"
                          ],
                          [
                            0.5555555555555556,
                            "#d8576b"
                          ],
                          [
                            0.6666666666666666,
                            "#ed7953"
                          ],
                          [
                            0.7777777777777778,
                            "#fb9f3a"
                          ],
                          [
                            0.8888888888888888,
                            "#fdca26"
                          ],
                          [
                            1,
                            "#f0f921"
                          ]
                        ],
                        "type": "contour"
                      }
                    ],
                    "contourcarpet": [
                      {
                        "colorbar": {
                          "outlinewidth": 0,
                          "ticks": ""
                        },
                        "type": "contourcarpet"
                      }
                    ],
                    "heatmap": [
                      {
                        "colorbar": {
                          "outlinewidth": 0,
                          "ticks": ""
                        },
                        "colorscale": [
                          [
                            0,
                            "#0d0887"
                          ],
                          [
                            0.1111111111111111,
                            "#46039f"
                          ],
                          [
                            0.2222222222222222,
                            "#7201a8"
                          ],
                          [
                            0.3333333333333333,
                            "#9c179e"
                          ],
                          [
                            0.4444444444444444,
                            "#bd3786"
                          ],
                          [
                            0.5555555555555556,
                            "#d8576b"
                          ],
                          [
                            0.6666666666666666,
                            "#ed7953"
                          ],
                          [
                            0.7777777777777778,
                            "#fb9f3a"
                          ],
                          [
                            0.8888888888888888,
                            "#fdca26"
                          ],
                          [
                            1,
                            "#f0f921"
                          ]
                        ],
                        "type": "heatmap"
                      }
                    ],
                    "histogram": [
                      {
                        "marker": {
                          "pattern": {
                            "fillmode": "overlay",
                            "size": 10,
                            "solidity": 0.2
                          }
                        },
                        "type": "histogram"
                      }
                    ],
                    "histogram2d": [
                      {
                        "colorbar": {
                          "outlinewidth": 0,
                          "ticks": ""
                        },
                        "colorscale": [
                          [
                            0,
                            "#0d0887"
                          ],
                          [
                            0.1111111111111111,
                            "#46039f"
                          ],
                          [
                            0.2222222222222222,
                            "#7201a8"
                          ],
                          [
                            0.3333333333333333,
                            "#9c179e"
                          ],
                          [
                            0.4444444444444444,
                            "#bd3786"
                          ],
                          [
                            0.5555555555555556,
                            "#d8576b"
                          ],
                          [
                            0.6666666666666666,
                            "#ed7953"
                          ],
                          [
                            0.7777777777777778,
                            "#fb9f3a"
                          ],
                          [
                            0.8888888888888888,
                            "#fdca26"
                          ],
                          [
                            1,
                            "#f0f921"
                          ]
                        ],
                        "type": "histogram2d"
                      }
                    ],
                    "histogram2dcontour": [
                      {
                        "colorbar": {
                          "outlinewidth": 0,
                          "ticks": ""
                        },
                        "colorscale": [
                          [
                            0,
                            "#0d0887"
                          ],
                          [
                            0.1111111111111111,
                            "#46039f"
                          ],
                          [
                            0.2222222222222222,
                            "#7201a8"
                          ],
                          [
                            0.3333333333333333,
                            "#9c179e"
                          ],
                          [
                            0.4444444444444444,
                            "#bd3786"
                          ],
                          [
                            0.5555555555555556,
                            "#d8576b"
                          ],
                          [
                            0.6666666666666666,
                            "#ed7953"
                          ],
                          [
                            0.7777777777777778,
                            "#fb9f3a"
                          ],
                          [
                            0.8888888888888888,
                            "#fdca26"
                          ],
                          [
                            1,
                            "#f0f921"
                          ]
                        ],
                        "type": "histogram2dcontour"
                      }
                    ],
                    "mesh3d": [
                      {
                        "colorbar": {
                          "outlinewidth": 0,
                          "ticks": ""
                        },
                        "type": "mesh3d"
                      }
                    ],
                    "parcoords": [
                      {
                        "line": {
                          "colorbar": {
                            "outlinewidth": 0,
                            "ticks": ""
                          }
                        },
                        "type": "parcoords"
                      }
                    ],
                    "pie": [
                      {
                        "automargin": true,
                        "type": "pie"
                      }
                    ],
                    "scatter": [
                      {
                        "fillpattern": {
                          "fillmode": "overlay",
                          "size": 10,
                          "solidity": 0.2
                        },
                        "type": "scatter"
                      }
                    ],
                    "scatter3d": [
                      {
                        "line": {
                          "colorbar": {
                            "outlinewidth": 0,
                            "ticks": ""
                          }
                        },
                        "marker": {
                          "colorbar": {
                            "outlinewidth": 0,
                            "ticks": ""
                          }
                        },
                        "type": "scatter3d"
                      }
                    ],
                    "scattercarpet": [
                      {
                        "marker": {
                          "colorbar": {
                            "outlinewidth": 0,
                            "ticks": ""
                          }
                        },
                        "type": "scattercarpet"
                      }
                    ],
                    "scattergeo": [
                      {
                        "marker": {
                          "colorbar": {
                            "outlinewidth": 0,
                            "ticks": ""
                          }
                        },
                        "type": "scattergeo"
                      }
                    ],
                    "scattergl": [
                      {
                        "marker": {
                          "colorbar": {
                            "outlinewidth": 0,
                            "ticks": ""
                          }
                        },
                        "type": "scattergl"
                      }
                    ],
                    "scattermap": [
                      {
                        "marker": {
                          "colorbar": {
                            "outlinewidth": 0,
                            "ticks": ""
                          }
                        },
                        "type": "scattermap"
                      }
                    ],
                    "scattermapbox": [
                      {
                        "marker": {
                          "colorbar": {
                            "outlinewidth": 0,
                            "ticks": ""
                          }
                        },
                        "type": "scattermapbox"
                      }
                    ],
                    "scatterpolar": [
                      {
                        "marker": {
                          "colorbar": {
                            "outlinewidth": 0,
                            "ticks": ""
                          }
                        },
                        "type": "scatterpolar"
                      }
                    ],
                    "scatterpolargl": [
                      {
                        "marker": {
                          "colorbar": {
                            "outlinewidth": 0,
                            "ticks": ""
                          }
                        },
                        "type": "scatterpolargl"
                      }
                    ],
                    "scatterternary": [
                      {
                        "marker": {
                          "colorbar": {
                            "outlinewidth": 0,
                            "ticks": ""
                          }
                        },
                        "type": "scatterternary"
                      }
                    ],
                    "surface": [
                      {
                        "colorbar": {
                          "outlinewidth": 0,
                          "ticks": ""
                        },
                        "colorscale": [
                          [
                            0,
                            "#0d0887"
                          ],
                          [
                            0.1111111111111111,
                            "#46039f"
                          ],
                          [
                            0.2222222222222222,
                            "#7201a8"
                          ],
                          [
                            0.3333333333333333,
                            "#9c179e"
                          ],
                          [
                            0.4444444444444444,
                            "#bd3786"
                          ],
                          [
                            0.5555555555555556,
                            "#d8576b"
                          ],
                          [
                            0.6666666666666666,
                            "#ed7953"
                          ],
                          [
                            0.7777777777777778,
                            "#fb9f3a"
                          ],
                          [
                            0.8888888888888888,
                            "#fdca26"
                          ],
                          [
                            1,
                            "#f0f921"
                          ]
                        ],
                        "type": "surface"
                      }
                    ],
                    "table": [
                      {
                        "cells": {
                          "fill": {
                            "color": "#EBF0F8"
                          },
                          "line": {
                            "color": "white"
                          }
                        },
                        "header": {
                          "fill": {
                            "color": "#C8D4E3"
                          },
                          "line": {
                            "color": "white"
                          }
                        },
                        "type": "table"
                      }
                    ]
                  },
                  "layout": {
                    "annotationdefaults": {
                      "arrowcolor": "#2a3f5f",
                      "arrowhead": 0,
                      "arrowwidth": 1
                    },
                    "autotypenumbers": "strict",
                    "coloraxis": {
                      "colorbar": {
                        "outlinewidth": 0,
                        "ticks": ""
                      }
                    },
                    "colorscale": {
                      "diverging": [
                        [
                          0,
                          "#8e0152"
                        ],
                        [
                          0.1,
                          "#c51b7d"
                        ],
                        [
                          0.2,
                          "#de77ae"
                        ],
                        [
                          0.3,
                          "#f1b6da"
                        ],
                        [
                          0.4,
                          "#fde0ef"
                        ],
                        [
                          0.5,
                          "#f7f7f7"
                        ],
                        [
                          0.6,
                          "#e6f5d0"
                        ],
                        [
                          0.7,
                          "#b8e186"
                        ],
                        [
                          0.8,
                          "#7fbc41"
                        ],
                        [
                          0.9,
                          "#4d9221"
                        ],
                        [
                          1,
                          "#276419"
                        ]
                      ],
                      "sequential": [
                        [
                          0,
                          "#0d0887"
                        ],
                        [
                          0.1111111111111111,
                          "#46039f"
                        ],
                        [
                          0.2222222222222222,
                          "#7201a8"
                        ],
                        [
                          0.3333333333333333,
                          "#9c179e"
                        ],
                        [
                          0.4444444444444444,
                          "#bd3786"
                        ],
                        [
                          0.5555555555555556,
                          "#d8576b"
                        ],
                        [
                          0.6666666666666666,
                          "#ed7953"
                        ],
                        [
                          0.7777777777777778,
                          "#fb9f3a"
                        ],
                        [
                          0.8888888888888888,
                          "#fdca26"
                        ],
                        [
                          1,
                          "#f0f921"
                        ]
                      ],
                      "sequentialminus": [
                        [
                          0,
                          "#0d0887"
                        ],
                        [
                          0.1111111111111111,
                          "#46039f"
                        ],
                        [
                          0.2222222222222222,
                          "#7201a8"
                        ],
                        [
                          0.3333333333333333,
                          "#9c179e"
                        ],
                        [
                          0.4444444444444444,
                          "#bd3786"
                        ],
                        [
                          0.5555555555555556,
                          "#d8576b"
                        ],
                        [
                          0.6666666666666666,
                          "#ed7953"
                        ],
                        [
                          0.7777777777777778,
                          "#fb9f3a"
                        ],
                        [
                          0.8888888888888888,
                          "#fdca26"
                        ],
                        [
                          1,
                          "#f0f921"
                        ]
                      ]
                    },
                    "colorway": [
                      "#636efa",
                      "#EF553B",
                      "#00cc96",
                      "#ab63fa",
                      "#FFA15A",
                      "#19d3f3",
                      "#FF6692",
                      "#B6E880",
                      "#FF97FF",
                      "#FECB52"
                    ],
                    "font": {
                      "color": "#2a3f5f"
                    },
                    "geo": {
                      "bgcolor": "white",
                      "lakecolor": "white",
                      "landcolor": "#E5ECF6",
                      "showlakes": true,
                      "showland": true,
                      "subunitcolor": "white"
                    },
                    "hoverlabel": {
                      "align": "left"
                    },
                    "hovermode": "closest",
                    "mapbox": {
                      "style": "light"
                    },
                    "paper_bgcolor": "white",
                    "plot_bgcolor": "#E5ECF6",
                    "polar": {
                      "angularaxis": {
                        "gridcolor": "white",
                        "linecolor": "white",
                        "ticks": ""
                      },
                      "bgcolor": "#E5ECF6",
                      "radialaxis": {
                        "gridcolor": "white",
                        "linecolor": "white",
                        "ticks": ""
                      }
                    },
                    "scene": {
                      "xaxis": {
                        "backgroundcolor": "#E5ECF6",
                        "gridcolor": "white",
                        "gridwidth": 2,
                        "linecolor": "white",
                        "showbackground": true,
                        "ticks": "",
                        "zerolinecolor": "white"
                      },
                      "yaxis": {
                        "backgroundcolor": "#E5ECF6",
                        "gridcolor": "white",
                        "gridwidth": 2,
                        "linecolor": "white",
                        "showbackground": true,
                        "ticks": "",
                        "zerolinecolor": "white"
                      },
                      "zaxis": {
                        "backgroundcolor": "#E5ECF6",
                        "gridcolor": "white",
                        "gridwidth": 2,
                        "linecolor": "white",
                        "showbackground": true,
                        "ticks": "",
                        "zerolinecolor": "white"
                      }
                    },
                    "shapedefaults": {
                      "line": {
                        "color": "#2a3f5f"
                      }
                    },
                    "ternary": {
                      "aaxis": {
                        "gridcolor": "white",
                        "linecolor": "white",
                        "ticks": ""
                      },
                      "baxis": {
                        "gridcolor": "white",
                        "linecolor": "white",
                        "ticks": ""
                      },
                      "bgcolor": "#E5ECF6",
                      "caxis": {
                        "gridcolor": "white",
                        "linecolor": "white",
                        "ticks": ""
                      }
                    },
                    "title": {
                      "x": 0.05
                    },
                    "xaxis": {
                      "automargin": true,
                      "gridcolor": "white",
                      "linecolor": "white",
                      "ticks": "",
                      "title": {
                        "standoff": 15
                      },
                      "zerolinecolor": "white",
                      "zerolinewidth": 2
                    },
                    "yaxis": {
                      "automargin": true,
                      "gridcolor": "white",
                      "linecolor": "white",
                      "ticks": "",
                      "title": {
                        "standoff": 15
                      },
                      "zerolinecolor": "white",
                      "zerolinewidth": 2
                    }
                  }
                },
                "xaxis": {
                  "anchor": "y",
                  "domain": [
                    0,
                    0.45
                  ],
                  "title": {
                    "text": "Epoch"
                  }
                },
                "xaxis2": {
                  "anchor": "y2",
                  "domain": [
                    0.55,
                    1
                  ],
                  "title": {
                    "text": "TRIP_MILES"
                  }
                },
                "yaxis": {
                  "anchor": "x",
                  "domain": [
                    0,
                    1
                  ],
                  "range": [
                    3.0461292266845703,
                    35.410221099853516
                  ],
                  "title": {
                    "text": "Root Mean Squared Error"
                  }
                },
                "yaxis2": {
                  "anchor": "x2",
                  "domain": [
                    0,
                    1
                  ],
                  "title": {
                    "text": "FARE"
                  }
                }
              }
            }
          },
          "metadata": {},
          "output_type": "display_data"
        }
      ],
      "source": [
        "#@title Code - Experiment 2\n",
        "\n",
        "# The following variables are the hyperparameters.\n",
        "# TODO - Adjust these hyperparameters to see how they impact a training run.\n",
        "learning_rate = 0.0001\n",
        "epochs = 30\n",
        "batch_size = 20\n",
        "\n",
        "# Specify the feature and the label.\n",
        "features = ['TRIP_MILES']\n",
        "label = 'FARE'\n",
        "\n",
        "model_1 = run_experiment(training_df, features, label, learning_rate, epochs, batch_size)"
      ]
    },
    {
      "cell_type": "markdown",
      "metadata": {
        "id": "o27u0JRj_gJr"
      },
      "source": [
        "## Train a model with two features\n",
        "\n",
        "The model you trained with the feature ``TOTAL_MILES`` demonstrates fairly strong predictive power, but is it possible to do better? In this step, try training the model with two features, ``TRIP_MILES`` and ``TRIP_MINUTES``, to see if you can improve the model. You may recall that the original dataset does not include a feature ``TRIP_MINUTES``, but this feature can be easily derived from ``TRIP_SECONDS`` as shown in the code below.*\n",
        "\n",
        "**Instructions**\n",
        "1. Review the code in **Experiment 3** code cell.\n",
        "1. Run the **Experiment 3** code cell.\n",
        "1. Review the output from the training run and answer these questions:\n",
        "  * Does the model with two features produce better results than one using a single feature?\n",
        "  * Does it make a difference if you use ``TRIP_SECONDS`` instead of ``TRIP_MINUTES``?\n",
        "  * How well do you think the model comes to the ground truth fare calculation for Chicago Taxi Trips?\n",
        "\n",
        "\n",
        "Notice that the scatter plot of the features vs. the label is a three dimensional (3-D) plot. This representation allows you to visualize both features and the label all together. The two features (TRIP_MILES and TRIP_MINUTES) are on the x and y axis, and the label (FARE) is on the z axis. The plot shows individual examples in the dataset as circles, and the model as a surface (plane). With this 3-D model, if the trained model is good you would expect most of the examples to land on the plane surface. The 3-D plot is interactive so you can explore the data further by clicking or dragging the plot.\n"
      ]
    },
    {
      "cell_type": "code",
      "execution_count": 27,
      "metadata": {
        "cellView": "form",
        "id": "Mg3gUYOoBAtd"
      },
      "outputs": [
        {
          "name": "stdout",
          "output_type": "stream",
          "text": [
            "INFO: starting training experiment with features=['TRIP_MILES', 'TRIP_MINUTES'] and label=FARE\n",
            "\n",
            "Epoch 1/20\n",
            "\u001b[1m  1/634\u001b[0m \u001b[37m━━━━━━━━━━━━━━━━━━━━\u001b[0m \u001b[1m1:23\u001b[0m 132ms/step - loss: 1384.3036 - root_mean_squared_error: 37.2062"
          ]
        },
        {
          "name": "stderr",
          "output_type": "stream",
          "text": [
            "/var/folders/2w/kfdqhq5j5kq8v8tvtj8qfm6w0000gn/T/ipykernel_10710/1351217918.py:8: SettingWithCopyWarning:\n",
            "\n",
            "\n",
            "A value is trying to be set on a copy of a slice from a DataFrame.\n",
            "Try using .loc[row_indexer,col_indexer] = value instead\n",
            "\n",
            "See the caveats in the documentation: https://pandas.pydata.org/pandas-docs/stable/user_guide/indexing.html#returning-a-view-versus-a-copy\n",
            "\n"
          ]
        },
        {
          "name": "stdout",
          "output_type": "stream",
          "text": [
            "\u001b[1m634/634\u001b[0m \u001b[32m━━━━━━━━━━━━━━━━━━━━\u001b[0m\u001b[37m\u001b[0m \u001b[1m0s\u001b[0m 357us/step - loss: 1000.5779 - root_mean_squared_error: 31.4799\n",
            "Epoch 2/20\n",
            "\u001b[1m634/634\u001b[0m \u001b[32m━━━━━━━━━━━━━━━━━━━━\u001b[0m\u001b[37m\u001b[0m \u001b[1m0s\u001b[0m 310us/step - loss: 103.2982 - root_mean_squared_error: 9.9446 \n",
            "Epoch 3/20\n",
            "\u001b[1m634/634\u001b[0m \u001b[32m━━━━━━━━━━━━━━━━━━━━\u001b[0m\u001b[37m\u001b[0m \u001b[1m0s\u001b[0m 368us/step - loss: 15.2733 - root_mean_squared_error: 3.9036\n",
            "Epoch 4/20\n",
            "\u001b[1m634/634\u001b[0m \u001b[32m━━━━━━━━━━━━━━━━━━━━\u001b[0m\u001b[37m\u001b[0m \u001b[1m0s\u001b[0m 369us/step - loss: 13.9659 - root_mean_squared_error: 3.7314\n",
            "Epoch 5/20\n",
            "\u001b[1m634/634\u001b[0m \u001b[32m━━━━━━━━━━━━━━━━━━━━\u001b[0m\u001b[37m\u001b[0m \u001b[1m0s\u001b[0m 350us/step - loss: 12.4180 - root_mean_squared_error: 3.5212\n",
            "Epoch 6/20\n",
            "\u001b[1m634/634\u001b[0m \u001b[32m━━━━━━━━━━━━━━━━━━━━\u001b[0m\u001b[37m\u001b[0m \u001b[1m0s\u001b[0m 361us/step - loss: 12.4351 - root_mean_squared_error: 3.5209\n",
            "Epoch 7/20\n",
            "\u001b[1m634/634\u001b[0m \u001b[32m━━━━━━━━━━━━━━━━━━━━\u001b[0m\u001b[37m\u001b[0m \u001b[1m0s\u001b[0m 349us/step - loss: 13.7768 - root_mean_squared_error: 3.7036\n",
            "Epoch 8/20\n",
            "\u001b[1m634/634\u001b[0m \u001b[32m━━━━━━━━━━━━━━━━━━━━\u001b[0m\u001b[37m\u001b[0m \u001b[1m0s\u001b[0m 377us/step - loss: 12.4211 - root_mean_squared_error: 3.5226\n",
            "Epoch 9/20\n",
            "\u001b[1m634/634\u001b[0m \u001b[32m━━━━━━━━━━━━━━━━━━━━\u001b[0m\u001b[37m\u001b[0m \u001b[1m0s\u001b[0m 389us/step - loss: 13.0464 - root_mean_squared_error: 3.6043\n",
            "Epoch 10/20\n",
            "\u001b[1m634/634\u001b[0m \u001b[32m━━━━━━━━━━━━━━━━━━━━\u001b[0m\u001b[37m\u001b[0m \u001b[1m0s\u001b[0m 341us/step - loss: 12.0042 - root_mean_squared_error: 3.4599\n",
            "Epoch 11/20\n",
            "\u001b[1m634/634\u001b[0m \u001b[32m━━━━━━━━━━━━━━━━━━━━\u001b[0m\u001b[37m\u001b[0m \u001b[1m0s\u001b[0m 422us/step - loss: 11.9046 - root_mean_squared_error: 3.4440\n",
            "Epoch 12/20\n",
            "\u001b[1m634/634\u001b[0m \u001b[32m━━━━━━━━━━━━━━━━━━━━\u001b[0m\u001b[37m\u001b[0m \u001b[1m0s\u001b[0m 321us/step - loss: 12.2512 - root_mean_squared_error: 3.4961\n",
            "Epoch 13/20\n",
            "\u001b[1m634/634\u001b[0m \u001b[32m━━━━━━━━━━━━━━━━━━━━\u001b[0m\u001b[37m\u001b[0m \u001b[1m0s\u001b[0m 329us/step - loss: 13.3418 - root_mean_squared_error: 3.6432\n",
            "Epoch 14/20\n",
            "\u001b[1m634/634\u001b[0m \u001b[32m━━━━━━━━━━━━━━━━━━━━\u001b[0m\u001b[37m\u001b[0m \u001b[1m0s\u001b[0m 360us/step - loss: 11.7175 - root_mean_squared_error: 3.4203\n",
            "Epoch 15/20\n",
            "\u001b[1m634/634\u001b[0m \u001b[32m━━━━━━━━━━━━━━━━━━━━\u001b[0m\u001b[37m\u001b[0m \u001b[1m0s\u001b[0m 397us/step - loss: 13.1468 - root_mean_squared_error: 3.6180\n",
            "Epoch 16/20\n",
            "\u001b[1m634/634\u001b[0m \u001b[32m━━━━━━━━━━━━━━━━━━━━\u001b[0m\u001b[37m\u001b[0m \u001b[1m0s\u001b[0m 361us/step - loss: 11.6581 - root_mean_squared_error: 3.4091\n",
            "Epoch 17/20\n",
            "\u001b[1m634/634\u001b[0m \u001b[32m━━━━━━━━━━━━━━━━━━━━\u001b[0m\u001b[37m\u001b[0m \u001b[1m0s\u001b[0m 331us/step - loss: 12.3058 - root_mean_squared_error: 3.5018\n",
            "Epoch 18/20\n",
            "\u001b[1m634/634\u001b[0m \u001b[32m━━━━━━━━━━━━━━━━━━━━\u001b[0m\u001b[37m\u001b[0m \u001b[1m0s\u001b[0m 379us/step - loss: 12.4226 - root_mean_squared_error: 3.5216\n",
            "Epoch 19/20\n",
            "\u001b[1m634/634\u001b[0m \u001b[32m━━━━━━━━━━━━━━━━━━━━\u001b[0m\u001b[37m\u001b[0m \u001b[1m0s\u001b[0m 342us/step - loss: 11.6628 - root_mean_squared_error: 3.4059\n",
            "Epoch 20/20\n",
            "\u001b[1m634/634\u001b[0m \u001b[32m━━━━━━━━━━━━━━━━━━━━\u001b[0m\u001b[37m\u001b[0m \u001b[1m0s\u001b[0m 312us/step - loss: 13.8162 - root_mean_squared_error: 3.7012\n",
            "\n",
            "SUCCESS: training experiment complete\n",
            "\n",
            "--------------------------------------------------------------------------------\n",
            "|                                  MODEL INFO                                  |\n",
            "--------------------------------------------------------------------------------\n",
            "Weight for feature[TRIP_MILES]: 2.031\n",
            "Weight for feature[TRIP_MINUTES]: 0.147\n",
            "Bias: 3.832\n",
            "\n",
            "FARE = 2.031 * TRIP_MILES + 0.147 * TRIP_MINUTES + 3.832\n",
            "\n"
          ]
        },
        {
          "data": {
            "application/vnd.plotly.v1+json": {
              "config": {
                "plotlyServerURL": "https://plot.ly"
              },
              "data": [
                {
                  "hovertemplate": "TRIP_MILES=%{x}<br>TRIP_MINUTES=%{y}<br>FARE=%{z}<extra></extra>",
                  "legendgroup": "",
                  "marker": {
                    "color": "#636efa",
                    "symbol": "circle"
                  },
                  "mode": "markers",
                  "name": "",
                  "scene": "scene",
                  "showlegend": false,
                  "type": "scatter3d",
                  "x": {
                    "bdata": "MzMzMzMzA0DhehSuR+EXQKRwPQrXo/A/H4XrUbgeD0BmZmZmZmbmP0jhehSuRxZAzczMzMzMOkAAAAAAAEAzQGZmZmZmZjFAuB6F61G47j/2KFyPwvUcQIXrUbgehf8/ZmZmZmZmL0BxPQrXo3D1P9ejcD0K1xRAZmZmZmZmAkAfhetRuB7lP+xRuB6F6yBAmpmZmZmZHUBcj8L1KFwkQLgehetRuA5AZmZmZmZmEkCF61G4HgUoQLgehetRuCNAAAAAAACAL0AUrkfhehT+P7gehetR+DFA4XoUrkfhCkDNzMzMzMwCQDMzMzMzM/c/pHA9CtejMkCkcD0K1yMxQGZmZmZmZgZAmpmZmZmZ8T8K16NwPQr/PzMzMzMzczBAUrgehesRMECuR+F6FK4tQM3MzMzMTDNA16NwPQrXGECPwvUoXI8IQFK4HoXrUR1AFK5H4XoUMUCuR+F6FK4fQBSuR+F6lCBAmpmZmZmZ+T+amZmZmZn9P5qZmZmZmSFAZmZmZmZm7j9mZmZmZuYxQD0K16NwPfI/zczMzMxMMUAzMzMzMzMnQM3MzMzMzENA7FG4HoWrMkCamZmZmZkqQLgehetRuCZAmpmZmZmZAUCamZmZmZkFQGZmZmZm5jFAMzMzMzMz4z8AAAAAAAAIQNejcD0K1/8/UrgehetRHUBmZmZmZmb2P7gehetRuCFAXI/C9Shc9z/hehSuR2EkQDMzMzMzMxNAZmZmZmbmMEAzMzMzMzMVQJqZmZmZmfE/UrgehetR8D+amZmZmZkxQJqZmZmZmR9AAAAAAAAAKUBmZmZmZmbmP8P1KFyPQjFAj8L1KFyP8j+amZmZmZnpP2ZmZmZmZvI/PQrXo3A98j9mZmZmZmbmP2ZmZmZmZgZA9ihcj8J1M0D2KFyPwvX8P+F6FK5H4fo/hetRuB6FMkDhehSuR+HqP9ejcD0KVy9AcT0K16NwJ0BmZmZmZmYkQDMzMzMzMy5AcT0K16Nw8T89CtejcD36PzMzMzMzsyZAzczMzMzM5D8AAAAAAAAeQHsUrkfheuQ/7FG4HoVrJUAzMzMzMzMDQM3MzMzMzCJA16NwPQrX/z9mZmZmZmYyQHsUrkfh+ilApHA9Ctej/D+uR+F6FG4xQNejcD0KVyhA4XoUrkfh4j89CtejcD0CQFK4HoXr0TFAUrgehetR+D8zMzMzM7MxQAAAAAAAACNAcT0K16Nw9T97FK5H4XoiQM3MzMzMTDBAcT0K16Nw7T8AAAAAAADgP6RwPQrXowpA16NwPQrX/z89CtejcD0oQLgehetRuO4/9ihcj8I1MUCF61G4HoUlQM3MzMzMzBhAH4XrUbgeAUAzMzMzM7M5QM3MzMzMzPA/PQrXo3A9CEAfhetRuB4mQAAAAAAAgDFA4XoUrkfhJUDNzMzMzEwxQD0K16NwPQxA16NwPQqXOkBSuB6F61EyQHE9CtejcANArkfhehTuMEAAAAAAAADwPxSuR+F6FBFAFK5H4XoUGEBmZmZmZmYpQGZmZmZmZjFAw/UoXI+CMEBI4XoUrkchQDMzMzMzMwlACtejcD0KD0CuR+F6FK4nQLgehetRuOY/mpmZmZmZMUApXI/C9SjwPx+F61G4Hi9AmpmZmZmZIkAAAAAAAIApQDMzMzMzM/s/H4XrUbgeB0DsUbgeheslQD0K16NwvSVAXI/C9Shc5z/Xo3A9CtfjP0jhehSuRxVACtejcD0KEUDNzMzMzEwqQD0K16NwvTJAzczMzMzM/D/hehSuR+EwQFK4HoXrUQRAhetRuB6FAUAK16NwPQrvPxSuR+F6lCNAmpmZmZmZMUAAAAAAAADgP/YoXI/C9RxAKVyPwvUoEkAAAAAAAMAyQD0K16NwPeo/MzMzMzNzMUAUrkfhepQyQBSuR+F6FBpAAAAAAAAA+D8zMzMzM7MzQNejcD0K1yVApHA9CtfjMUCamZmZmZkvQAAAAAAAABJAMzMzMzMz8z+4HoXrUbglQNejcD0K1yhACtejcD2KIkDNzMzMzMwxQMP1KFyPQjFAZmZmZmZmBkBmZmZmZmbmP+xRuB6FKzNAMzMzMzMzIEDsUbgehWsiQAAAAAAAABZAAAAAAAAANUBmZmZmZmbyPw==",
                    "dtype": "f8"
                  },
                  "y": {
                    "bdata": "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",
                    "dtype": "f8"
                  },
                  "z": {
                    "bdata": "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",
                    "dtype": "f8"
                  }
                },
                {
                  "colorscale": [
                    [
                      0,
                      "#89CFF0"
                    ],
                    [
                      1,
                      "#FFDB58"
                    ]
                  ],
                  "scene": "scene",
                  "type": "surface",
                  "x": {
                    "bdata": "E6Af+Zpt4j8QdbLQYp8wQI+9ozsczEJA",
                    "dtype": "f8"
                  },
                  "y": {
                    "bdata": "MzMzMzMz/z8zMzMzM7NBQAAAAAAAMFJA",
                    "dtype": "f8"
                  },
                  "z": [
                    [
                      5.288249418139458,
                      42.79161587059498,
                      90.87148115932942
                    ],
                    [
                      5.288249418139458,
                      42.79161587059498,
                      90.87148115932942
                    ],
                    [
                      5.288249418139458,
                      42.79161587059498,
                      90.87148115932942
                    ]
                  ]
                },
                {
                  "hovertemplate": "x=%{x}<br>y=%{y}<extra></extra>",
                  "legendgroup": "",
                  "line": {
                    "color": "#ff0000",
                    "dash": "solid",
                    "width": 3
                  },
                  "marker": {
                    "symbol": "circle"
                  },
                  "mode": "lines",
                  "name": "",
                  "orientation": "v",
                  "showlegend": false,
                  "type": "scatter",
                  "x": {
                    "bdata": "AAECAwQFBgcICQoLDA0ODxAREhM=",
                    "dtype": "i1"
                  },
                  "xaxis": "x",
                  "y": {
                    "bdata": "AAAAgOdkOkAAAABgjz0dQAAAAEBPWQ5AAAAAYBolDUAAAADAipIMQAAAAGDZOAxAAAAAwNsEDEAAAABAiOsLQAAAAMA53QtAAAAAoOXYC0AAAABgRNQLQAAAAKCZ1AtAAAAAAArSC0AAAABgsdMLQAAAACBI1AtAAAAAAB3TC0AAAABA2dILQAAAAMAg1AtAAAAAgJvSC0AAAABgN9MLQA==",
                    "dtype": "f8"
                  },
                  "yaxis": "y"
                }
              ],
              "layout": {
                "annotations": [
                  {
                    "font": {
                      "size": 16
                    },
                    "showarrow": false,
                    "text": "Loss Curve",
                    "x": 0.225,
                    "xanchor": "center",
                    "xref": "paper",
                    "y": 1,
                    "yanchor": "bottom",
                    "yref": "paper"
                  },
                  {
                    "font": {
                      "size": 16
                    },
                    "showarrow": false,
                    "text": "Model Plot",
                    "x": 0.775,
                    "xanchor": "center",
                    "xref": "paper",
                    "y": 1,
                    "yanchor": "bottom",
                    "yref": "paper"
                  }
                ],
                "scene": {
                  "domain": {
                    "x": [
                      0.55,
                      1
                    ],
                    "y": [
                      0,
                      1
                    ]
                  },
                  "xaxis": {
                    "title": {
                      "text": "TRIP_MILES"
                    }
                  },
                  "yaxis": {
                    "title": {
                      "text": "TRIP_MINUTES"
                    }
                  },
                  "zaxis": {
                    "title": {
                      "text": "FARE"
                    }
                  }
                },
                "template": {
                  "data": {
                    "bar": [
                      {
                        "error_x": {
                          "color": "#2a3f5f"
                        },
                        "error_y": {
                          "color": "#2a3f5f"
                        },
                        "marker": {
                          "line": {
                            "color": "#E5ECF6",
                            "width": 0.5
                          },
                          "pattern": {
                            "fillmode": "overlay",
                            "size": 10,
                            "solidity": 0.2
                          }
                        },
                        "type": "bar"
                      }
                    ],
                    "barpolar": [
                      {
                        "marker": {
                          "line": {
                            "color": "#E5ECF6",
                            "width": 0.5
                          },
                          "pattern": {
                            "fillmode": "overlay",
                            "size": 10,
                            "solidity": 0.2
                          }
                        },
                        "type": "barpolar"
                      }
                    ],
                    "carpet": [
                      {
                        "aaxis": {
                          "endlinecolor": "#2a3f5f",
                          "gridcolor": "white",
                          "linecolor": "white",
                          "minorgridcolor": "white",
                          "startlinecolor": "#2a3f5f"
                        },
                        "baxis": {
                          "endlinecolor": "#2a3f5f",
                          "gridcolor": "white",
                          "linecolor": "white",
                          "minorgridcolor": "white",
                          "startlinecolor": "#2a3f5f"
                        },
                        "type": "carpet"
                      }
                    ],
                    "choropleth": [
                      {
                        "colorbar": {
                          "outlinewidth": 0,
                          "ticks": ""
                        },
                        "type": "choropleth"
                      }
                    ],
                    "contour": [
                      {
                        "colorbar": {
                          "outlinewidth": 0,
                          "ticks": ""
                        },
                        "colorscale": [
                          [
                            0,
                            "#0d0887"
                          ],
                          [
                            0.1111111111111111,
                            "#46039f"
                          ],
                          [
                            0.2222222222222222,
                            "#7201a8"
                          ],
                          [
                            0.3333333333333333,
                            "#9c179e"
                          ],
                          [
                            0.4444444444444444,
                            "#bd3786"
                          ],
                          [
                            0.5555555555555556,
                            "#d8576b"
                          ],
                          [
                            0.6666666666666666,
                            "#ed7953"
                          ],
                          [
                            0.7777777777777778,
                            "#fb9f3a"
                          ],
                          [
                            0.8888888888888888,
                            "#fdca26"
                          ],
                          [
                            1,
                            "#f0f921"
                          ]
                        ],
                        "type": "contour"
                      }
                    ],
                    "contourcarpet": [
                      {
                        "colorbar": {
                          "outlinewidth": 0,
                          "ticks": ""
                        },
                        "type": "contourcarpet"
                      }
                    ],
                    "heatmap": [
                      {
                        "colorbar": {
                          "outlinewidth": 0,
                          "ticks": ""
                        },
                        "colorscale": [
                          [
                            0,
                            "#0d0887"
                          ],
                          [
                            0.1111111111111111,
                            "#46039f"
                          ],
                          [
                            0.2222222222222222,
                            "#7201a8"
                          ],
                          [
                            0.3333333333333333,
                            "#9c179e"
                          ],
                          [
                            0.4444444444444444,
                            "#bd3786"
                          ],
                          [
                            0.5555555555555556,
                            "#d8576b"
                          ],
                          [
                            0.6666666666666666,
                            "#ed7953"
                          ],
                          [
                            0.7777777777777778,
                            "#fb9f3a"
                          ],
                          [
                            0.8888888888888888,
                            "#fdca26"
                          ],
                          [
                            1,
                            "#f0f921"
                          ]
                        ],
                        "type": "heatmap"
                      }
                    ],
                    "histogram": [
                      {
                        "marker": {
                          "pattern": {
                            "fillmode": "overlay",
                            "size": 10,
                            "solidity": 0.2
                          }
                        },
                        "type": "histogram"
                      }
                    ],
                    "histogram2d": [
                      {
                        "colorbar": {
                          "outlinewidth": 0,
                          "ticks": ""
                        },
                        "colorscale": [
                          [
                            0,
                            "#0d0887"
                          ],
                          [
                            0.1111111111111111,
                            "#46039f"
                          ],
                          [
                            0.2222222222222222,
                            "#7201a8"
                          ],
                          [
                            0.3333333333333333,
                            "#9c179e"
                          ],
                          [
                            0.4444444444444444,
                            "#bd3786"
                          ],
                          [
                            0.5555555555555556,
                            "#d8576b"
                          ],
                          [
                            0.6666666666666666,
                            "#ed7953"
                          ],
                          [
                            0.7777777777777778,
                            "#fb9f3a"
                          ],
                          [
                            0.8888888888888888,
                            "#fdca26"
                          ],
                          [
                            1,
                            "#f0f921"
                          ]
                        ],
                        "type": "histogram2d"
                      }
                    ],
                    "histogram2dcontour": [
                      {
                        "colorbar": {
                          "outlinewidth": 0,
                          "ticks": ""
                        },
                        "colorscale": [
                          [
                            0,
                            "#0d0887"
                          ],
                          [
                            0.1111111111111111,
                            "#46039f"
                          ],
                          [
                            0.2222222222222222,
                            "#7201a8"
                          ],
                          [
                            0.3333333333333333,
                            "#9c179e"
                          ],
                          [
                            0.4444444444444444,
                            "#bd3786"
                          ],
                          [
                            0.5555555555555556,
                            "#d8576b"
                          ],
                          [
                            0.6666666666666666,
                            "#ed7953"
                          ],
                          [
                            0.7777777777777778,
                            "#fb9f3a"
                          ],
                          [
                            0.8888888888888888,
                            "#fdca26"
                          ],
                          [
                            1,
                            "#f0f921"
                          ]
                        ],
                        "type": "histogram2dcontour"
                      }
                    ],
                    "mesh3d": [
                      {
                        "colorbar": {
                          "outlinewidth": 0,
                          "ticks": ""
                        },
                        "type": "mesh3d"
                      }
                    ],
                    "parcoords": [
                      {
                        "line": {
                          "colorbar": {
                            "outlinewidth": 0,
                            "ticks": ""
                          }
                        },
                        "type": "parcoords"
                      }
                    ],
                    "pie": [
                      {
                        "automargin": true,
                        "type": "pie"
                      }
                    ],
                    "scatter": [
                      {
                        "fillpattern": {
                          "fillmode": "overlay",
                          "size": 10,
                          "solidity": 0.2
                        },
                        "type": "scatter"
                      }
                    ],
                    "scatter3d": [
                      {
                        "line": {
                          "colorbar": {
                            "outlinewidth": 0,
                            "ticks": ""
                          }
                        },
                        "marker": {
                          "colorbar": {
                            "outlinewidth": 0,
                            "ticks": ""
                          }
                        },
                        "type": "scatter3d"
                      }
                    ],
                    "scattercarpet": [
                      {
                        "marker": {
                          "colorbar": {
                            "outlinewidth": 0,
                            "ticks": ""
                          }
                        },
                        "type": "scattercarpet"
                      }
                    ],
                    "scattergeo": [
                      {
                        "marker": {
                          "colorbar": {
                            "outlinewidth": 0,
                            "ticks": ""
                          }
                        },
                        "type": "scattergeo"
                      }
                    ],
                    "scattergl": [
                      {
                        "marker": {
                          "colorbar": {
                            "outlinewidth": 0,
                            "ticks": ""
                          }
                        },
                        "type": "scattergl"
                      }
                    ],
                    "scattermap": [
                      {
                        "marker": {
                          "colorbar": {
                            "outlinewidth": 0,
                            "ticks": ""
                          }
                        },
                        "type": "scattermap"
                      }
                    ],
                    "scattermapbox": [
                      {
                        "marker": {
                          "colorbar": {
                            "outlinewidth": 0,
                            "ticks": ""
                          }
                        },
                        "type": "scattermapbox"
                      }
                    ],
                    "scatterpolar": [
                      {
                        "marker": {
                          "colorbar": {
                            "outlinewidth": 0,
                            "ticks": ""
                          }
                        },
                        "type": "scatterpolar"
                      }
                    ],
                    "scatterpolargl": [
                      {
                        "marker": {
                          "colorbar": {
                            "outlinewidth": 0,
                            "ticks": ""
                          }
                        },
                        "type": "scatterpolargl"
                      }
                    ],
                    "scatterternary": [
                      {
                        "marker": {
                          "colorbar": {
                            "outlinewidth": 0,
                            "ticks": ""
                          }
                        },
                        "type": "scatterternary"
                      }
                    ],
                    "surface": [
                      {
                        "colorbar": {
                          "outlinewidth": 0,
                          "ticks": ""
                        },
                        "colorscale": [
                          [
                            0,
                            "#0d0887"
                          ],
                          [
                            0.1111111111111111,
                            "#46039f"
                          ],
                          [
                            0.2222222222222222,
                            "#7201a8"
                          ],
                          [
                            0.3333333333333333,
                            "#9c179e"
                          ],
                          [
                            0.4444444444444444,
                            "#bd3786"
                          ],
                          [
                            0.5555555555555556,
                            "#d8576b"
                          ],
                          [
                            0.6666666666666666,
                            "#ed7953"
                          ],
                          [
                            0.7777777777777778,
                            "#fb9f3a"
                          ],
                          [
                            0.8888888888888888,
                            "#fdca26"
                          ],
                          [
                            1,
                            "#f0f921"
                          ]
                        ],
                        "type": "surface"
                      }
                    ],
                    "table": [
                      {
                        "cells": {
                          "fill": {
                            "color": "#EBF0F8"
                          },
                          "line": {
                            "color": "white"
                          }
                        },
                        "header": {
                          "fill": {
                            "color": "#C8D4E3"
                          },
                          "line": {
                            "color": "white"
                          }
                        },
                        "type": "table"
                      }
                    ]
                  },
                  "layout": {
                    "annotationdefaults": {
                      "arrowcolor": "#2a3f5f",
                      "arrowhead": 0,
                      "arrowwidth": 1
                    },
                    "autotypenumbers": "strict",
                    "coloraxis": {
                      "colorbar": {
                        "outlinewidth": 0,
                        "ticks": ""
                      }
                    },
                    "colorscale": {
                      "diverging": [
                        [
                          0,
                          "#8e0152"
                        ],
                        [
                          0.1,
                          "#c51b7d"
                        ],
                        [
                          0.2,
                          "#de77ae"
                        ],
                        [
                          0.3,
                          "#f1b6da"
                        ],
                        [
                          0.4,
                          "#fde0ef"
                        ],
                        [
                          0.5,
                          "#f7f7f7"
                        ],
                        [
                          0.6,
                          "#e6f5d0"
                        ],
                        [
                          0.7,
                          "#b8e186"
                        ],
                        [
                          0.8,
                          "#7fbc41"
                        ],
                        [
                          0.9,
                          "#4d9221"
                        ],
                        [
                          1,
                          "#276419"
                        ]
                      ],
                      "sequential": [
                        [
                          0,
                          "#0d0887"
                        ],
                        [
                          0.1111111111111111,
                          "#46039f"
                        ],
                        [
                          0.2222222222222222,
                          "#7201a8"
                        ],
                        [
                          0.3333333333333333,
                          "#9c179e"
                        ],
                        [
                          0.4444444444444444,
                          "#bd3786"
                        ],
                        [
                          0.5555555555555556,
                          "#d8576b"
                        ],
                        [
                          0.6666666666666666,
                          "#ed7953"
                        ],
                        [
                          0.7777777777777778,
                          "#fb9f3a"
                        ],
                        [
                          0.8888888888888888,
                          "#fdca26"
                        ],
                        [
                          1,
                          "#f0f921"
                        ]
                      ],
                      "sequentialminus": [
                        [
                          0,
                          "#0d0887"
                        ],
                        [
                          0.1111111111111111,
                          "#46039f"
                        ],
                        [
                          0.2222222222222222,
                          "#7201a8"
                        ],
                        [
                          0.3333333333333333,
                          "#9c179e"
                        ],
                        [
                          0.4444444444444444,
                          "#bd3786"
                        ],
                        [
                          0.5555555555555556,
                          "#d8576b"
                        ],
                        [
                          0.6666666666666666,
                          "#ed7953"
                        ],
                        [
                          0.7777777777777778,
                          "#fb9f3a"
                        ],
                        [
                          0.8888888888888888,
                          "#fdca26"
                        ],
                        [
                          1,
                          "#f0f921"
                        ]
                      ]
                    },
                    "colorway": [
                      "#636efa",
                      "#EF553B",
                      "#00cc96",
                      "#ab63fa",
                      "#FFA15A",
                      "#19d3f3",
                      "#FF6692",
                      "#B6E880",
                      "#FF97FF",
                      "#FECB52"
                    ],
                    "font": {
                      "color": "#2a3f5f"
                    },
                    "geo": {
                      "bgcolor": "white",
                      "lakecolor": "white",
                      "landcolor": "#E5ECF6",
                      "showlakes": true,
                      "showland": true,
                      "subunitcolor": "white"
                    },
                    "hoverlabel": {
                      "align": "left"
                    },
                    "hovermode": "closest",
                    "mapbox": {
                      "style": "light"
                    },
                    "paper_bgcolor": "white",
                    "plot_bgcolor": "#E5ECF6",
                    "polar": {
                      "angularaxis": {
                        "gridcolor": "white",
                        "linecolor": "white",
                        "ticks": ""
                      },
                      "bgcolor": "#E5ECF6",
                      "radialaxis": {
                        "gridcolor": "white",
                        "linecolor": "white",
                        "ticks": ""
                      }
                    },
                    "scene": {
                      "xaxis": {
                        "backgroundcolor": "#E5ECF6",
                        "gridcolor": "white",
                        "gridwidth": 2,
                        "linecolor": "white",
                        "showbackground": true,
                        "ticks": "",
                        "zerolinecolor": "white"
                      },
                      "yaxis": {
                        "backgroundcolor": "#E5ECF6",
                        "gridcolor": "white",
                        "gridwidth": 2,
                        "linecolor": "white",
                        "showbackground": true,
                        "ticks": "",
                        "zerolinecolor": "white"
                      },
                      "zaxis": {
                        "backgroundcolor": "#E5ECF6",
                        "gridcolor": "white",
                        "gridwidth": 2,
                        "linecolor": "white",
                        "showbackground": true,
                        "ticks": "",
                        "zerolinecolor": "white"
                      }
                    },
                    "shapedefaults": {
                      "line": {
                        "color": "#2a3f5f"
                      }
                    },
                    "ternary": {
                      "aaxis": {
                        "gridcolor": "white",
                        "linecolor": "white",
                        "ticks": ""
                      },
                      "baxis": {
                        "gridcolor": "white",
                        "linecolor": "white",
                        "ticks": ""
                      },
                      "bgcolor": "#E5ECF6",
                      "caxis": {
                        "gridcolor": "white",
                        "linecolor": "white",
                        "ticks": ""
                      }
                    },
                    "title": {
                      "x": 0.05
                    },
                    "xaxis": {
                      "automargin": true,
                      "gridcolor": "white",
                      "linecolor": "white",
                      "ticks": "",
                      "title": {
                        "standoff": 15
                      },
                      "zerolinecolor": "white",
                      "zerolinewidth": 2
                    },
                    "yaxis": {
                      "automargin": true,
                      "gridcolor": "white",
                      "linecolor": "white",
                      "ticks": "",
                      "title": {
                        "standoff": 15
                      },
                      "zerolinecolor": "white",
                      "zerolinewidth": 2
                    }
                  }
                },
                "xaxis": {
                  "anchor": "y",
                  "domain": [
                    0,
                    0.45
                  ],
                  "title": {
                    "text": "Epoch"
                  }
                },
                "yaxis": {
                  "anchor": "x",
                  "domain": [
                    0,
                    1
                  ],
                  "range": [
                    2.7820465087890627,
                    26.39415740966797
                  ],
                  "title": {
                    "text": "Root Mean Squared Error"
                  }
                }
              }
            }
          },
          "metadata": {},
          "output_type": "display_data"
        }
      ],
      "source": [
        "#@title Code - Experiment 3\n",
        "\n",
        "# The following variables are the hyperparameters.\n",
        "learning_rate = 0.001\n",
        "epochs = 20\n",
        "batch_size = 50\n",
        "\n",
        "training_df.loc[:, 'TRIP_MINUTES'] = training_df['TRIP_SECONDS']/60\n",
        "\n",
        "features = ['TRIP_MILES', 'TRIP_MINUTES']\n",
        "label = 'FARE'\n",
        "\n",
        "model_2 = run_experiment(training_df, features, label, learning_rate, epochs, batch_size)"
      ]
    },
    {
      "cell_type": "code",
      "execution_count": 28,
      "metadata": {},
      "outputs": [
        {
          "name": "stdout",
          "output_type": "stream",
          "text": [
            "INFO: starting training experiment with features=['TRIP_MILES', 'TRIP_SECONDS'] and label=FARE\n",
            "\n",
            "Epoch 1/20\n",
            "\u001b[1m634/634\u001b[0m \u001b[32m━━━━━━━━━━━━━━━━━━━━\u001b[0m\u001b[37m\u001b[0m \u001b[1m0s\u001b[0m 344us/step - loss: 203.1051 - root_mean_squared_error: 14.1707\n",
            "Epoch 2/20\n",
            "\u001b[1m634/634\u001b[0m \u001b[32m━━━━━━━━━━━━━━━━━━━━\u001b[0m\u001b[37m\u001b[0m \u001b[1m0s\u001b[0m 321us/step - loss: 135.0707 - root_mean_squared_error: 11.6166\n",
            "Epoch 3/20\n",
            "\u001b[1m634/634\u001b[0m \u001b[32m━━━━━━━━━━━━━━━━━━━━\u001b[0m\u001b[37m\u001b[0m \u001b[1m0s\u001b[0m 313us/step - loss: 92.0218 - root_mean_squared_error: 9.5849\n",
            "Epoch 4/20\n",
            "\u001b[1m634/634\u001b[0m \u001b[32m━━━━━━━━━━━━━━━━━━━━\u001b[0m\u001b[37m\u001b[0m \u001b[1m0s\u001b[0m 429us/step - loss: 57.0847 - root_mean_squared_error: 7.5520\n",
            "Epoch 5/20\n",
            "\u001b[1m634/634\u001b[0m \u001b[32m━━━━━━━━━━━━━━━━━━━━\u001b[0m\u001b[37m\u001b[0m \u001b[1m0s\u001b[0m 371us/step - loss: 33.8203 - root_mean_squared_error: 5.8138\n",
            "Epoch 6/20\n",
            "\u001b[1m634/634\u001b[0m \u001b[32m━━━━━━━━━━━━━━━━━━━━\u001b[0m\u001b[37m\u001b[0m \u001b[1m0s\u001b[0m 329us/step - loss: 20.2617 - root_mean_squared_error: 4.4991\n",
            "Epoch 7/20\n",
            "\u001b[1m634/634\u001b[0m \u001b[32m━━━━━━━━━━━━━━━━━━━━\u001b[0m\u001b[37m\u001b[0m \u001b[1m0s\u001b[0m 326us/step - loss: 16.1421 - root_mean_squared_error: 4.0123\n",
            "Epoch 8/20\n",
            "\u001b[1m634/634\u001b[0m \u001b[32m━━━━━━━━━━━━━━━━━━━━\u001b[0m\u001b[37m\u001b[0m \u001b[1m0s\u001b[0m 323us/step - loss: 15.7176 - root_mean_squared_error: 3.9574\n",
            "Epoch 9/20\n",
            "\u001b[1m634/634\u001b[0m \u001b[32m━━━━━━━━━━━━━━━━━━━━\u001b[0m\u001b[37m\u001b[0m \u001b[1m0s\u001b[0m 334us/step - loss: 15.4357 - root_mean_squared_error: 3.9191\n",
            "Epoch 10/20\n",
            "\u001b[1m634/634\u001b[0m \u001b[32m━━━━━━━━━━━━━━━━━━━━\u001b[0m\u001b[37m\u001b[0m \u001b[1m0s\u001b[0m 321us/step - loss: 11.6743 - root_mean_squared_error: 3.4023\n",
            "Epoch 11/20\n",
            "\u001b[1m634/634\u001b[0m \u001b[32m━━━━━━━━━━━━━━━━━━━━\u001b[0m\u001b[37m\u001b[0m \u001b[1m0s\u001b[0m 318us/step - loss: 13.3727 - root_mean_squared_error: 3.6539\n",
            "Epoch 12/20\n",
            "\u001b[1m634/634\u001b[0m \u001b[32m━━━━━━━━━━━━━━━━━━━━\u001b[0m\u001b[37m\u001b[0m \u001b[1m0s\u001b[0m 323us/step - loss: 11.9300 - root_mean_squared_error: 3.4354\n",
            "Epoch 13/20\n",
            "\u001b[1m634/634\u001b[0m \u001b[32m━━━━━━━━━━━━━━━━━━━━\u001b[0m\u001b[37m\u001b[0m \u001b[1m0s\u001b[0m 382us/step - loss: 13.1095 - root_mean_squared_error: 3.6173\n",
            "Epoch 14/20\n",
            "\u001b[1m634/634\u001b[0m \u001b[32m━━━━━━━━━━━━━━━━━━━━\u001b[0m\u001b[37m\u001b[0m \u001b[1m0s\u001b[0m 377us/step - loss: 11.9481 - root_mean_squared_error: 3.4458\n",
            "Epoch 15/20\n",
            "\u001b[1m634/634\u001b[0m \u001b[32m━━━━━━━━━━━━━━━━━━━━\u001b[0m\u001b[37m\u001b[0m \u001b[1m0s\u001b[0m 360us/step - loss: 11.4913 - root_mean_squared_error: 3.3728\n",
            "Epoch 16/20\n",
            "\u001b[1m634/634\u001b[0m \u001b[32m━━━━━━━━━━━━━━━━━━━━\u001b[0m\u001b[37m\u001b[0m \u001b[1m0s\u001b[0m 325us/step - loss: 13.2818 - root_mean_squared_error: 3.6399\n",
            "Epoch 17/20\n",
            "\u001b[1m634/634\u001b[0m \u001b[32m━━━━━━━━━━━━━━━━━━━━\u001b[0m\u001b[37m\u001b[0m \u001b[1m0s\u001b[0m 320us/step - loss: 13.9121 - root_mean_squared_error: 3.7238\n",
            "Epoch 18/20\n",
            "\u001b[1m634/634\u001b[0m \u001b[32m━━━━━━━━━━━━━━━━━━━━\u001b[0m\u001b[37m\u001b[0m \u001b[1m0s\u001b[0m 325us/step - loss: 13.2060 - root_mean_squared_error: 3.6319\n",
            "Epoch 19/20\n",
            "\u001b[1m634/634\u001b[0m \u001b[32m━━━━━━━━━━━━━━━━━━━━\u001b[0m\u001b[37m\u001b[0m \u001b[1m0s\u001b[0m 362us/step - loss: 13.2261 - root_mean_squared_error: 3.6287\n",
            "Epoch 20/20\n",
            "\u001b[1m634/634\u001b[0m \u001b[32m━━━━━━━━━━━━━━━━━━━━\u001b[0m\u001b[37m\u001b[0m \u001b[1m0s\u001b[0m 361us/step - loss: 12.3027 - root_mean_squared_error: 3.5038\n",
            "\n",
            "SUCCESS: training experiment complete\n",
            "\n",
            "--------------------------------------------------------------------------------\n",
            "|                                  MODEL INFO                                  |\n",
            "--------------------------------------------------------------------------------\n",
            "Weight for feature[TRIP_MILES]: 2.020\n",
            "Weight for feature[TRIP_SECONDS]: 0.002\n",
            "Bias: 3.749\n",
            "\n",
            "FARE = 2.020 * TRIP_MILES + 0.002 * TRIP_SECONDS + 3.749\n",
            "\n"
          ]
        },
        {
          "data": {
            "application/vnd.plotly.v1+json": {
              "config": {
                "plotlyServerURL": "https://plot.ly"
              },
              "data": [
                {
                  "hovertemplate": "TRIP_MILES=%{x}<br>TRIP_SECONDS=%{y}<br>FARE=%{z}<extra></extra>",
                  "legendgroup": "",
                  "marker": {
                    "color": "#636efa",
                    "symbol": "circle"
                  },
                  "mode": "markers",
                  "name": "",
                  "scene": "scene",
                  "showlegend": false,
                  "type": "scatter3d",
                  "x": {
                    "bdata": "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",
                    "dtype": "f8"
                  },
                  "y": {
                    "bdata": "igzTA90FLgOSA6ELtwLoCBgGHAL6AbsB/ANcBH0IfAuVAUIN6QCCDVUG6AgcApMQNgHpATECJQgYBkQBtADsA5QCWAMGAQsC3gUUAiQJAgRCAJ4DNQYDBMME1wC7AMUB+QGaCawIyArYCWAJswNEB6wA+AGEA/EF7wf0C68DHAJAAeABAQLuADIB/gRUBWgF8ACICPAAkARSBjIBfgt5BvoI7wEAA0IJlQfSAmcCGwE9A/0GYAkkAcUBQhC0Ah4MnQ0FD9ACFwauA2gEYAYtBIgLQQgsAZYD8ACxB08NaQHGBg8FWgbPAAEI4AFpA2oJqQRvAnwLeA0vCqkBJwWfDQ8M/AMcCtwFBQnYAYMBCQOACdACyAqkAbIBywLvA8wGzgOqA68J+gT5AXAItAAqAhsD+wR4BE0FuQXNAaMF8wa8By0CwQJUBoQI1gB1BIQDhAP9BHAIswfdBqQBRQUuCA8LSAOIAqEIsATJA5QCNAgFB/AAVAZkAYwA7gRnAQgJAA9kCmEC3wMMA3IGowRnAg==",
                    "dtype": "i2"
                  },
                  "z": {
                    "bdata": "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",
                    "dtype": "f8"
                  }
                },
                {
                  "colorscale": [
                    [
                      0,
                      "#89CFF0"
                    ],
                    [
                      1,
                      "#FFDB58"
                    ]
                  ],
                  "scene": "scene",
                  "type": "surface",
                  "x": {
                    "bdata": "4XoUrkfh4j/JHjoWYq0pQOZmMODL+j1A",
                    "dtype": "f8"
                  },
                  "y": {
                    "bdata": "AAAAAACAUEAAAAAAAFGgQAAAAAAAk7BA",
                    "dtype": "f8"
                  },
                  "z": [
                    [
                      5.075862752813846,
                      33.954763366850095,
                      72.98538948651404
                    ],
                    [
                      5.075862752813846,
                      33.954763366850095,
                      72.98538948651404
                    ],
                    [
                      5.075862752813846,
                      33.954763366850095,
                      72.98538948651404
                    ]
                  ]
                },
                {
                  "hovertemplate": "x=%{x}<br>y=%{y}<extra></extra>",
                  "legendgroup": "",
                  "line": {
                    "color": "#ff0000",
                    "dash": "solid",
                    "width": 3
                  },
                  "marker": {
                    "symbol": "circle"
                  },
                  "mode": "lines",
                  "name": "",
                  "orientation": "v",
                  "showlegend": false,
                  "type": "scatter",
                  "x": {
                    "bdata": "AAECAwQFBgcICQoLDA0ODxAREhM=",
                    "dtype": "i1"
                  },
                  "xaxis": "x",
                  "y": {
                    "bdata": "AAAA4FZ4KkAAAAAgkSkmQAAAAMCyLCJAAAAAwC/FHEAAAACgflAWQAAAAOBqwRFAAAAAYHBED0AAAADgBMkNQAAAAECEYQ1AAAAAwKIwDUAAAADAZhkNQAAAAACtFA1AAAAAQNHnDEAAAABgQ+AMQAAAAMD73gxAAAAAQMrSDEAAAAAgp9IMQAAAAMBV6gxAAAAAAG7cDEAAAADgFuEMQA==",
                    "dtype": "f8"
                  },
                  "yaxis": "y"
                }
              ],
              "layout": {
                "annotations": [
                  {
                    "font": {
                      "size": 16
                    },
                    "showarrow": false,
                    "text": "Loss Curve",
                    "x": 0.225,
                    "xanchor": "center",
                    "xref": "paper",
                    "y": 1,
                    "yanchor": "bottom",
                    "yref": "paper"
                  },
                  {
                    "font": {
                      "size": 16
                    },
                    "showarrow": false,
                    "text": "Model Plot",
                    "x": 0.775,
                    "xanchor": "center",
                    "xref": "paper",
                    "y": 1,
                    "yanchor": "bottom",
                    "yref": "paper"
                  }
                ],
                "scene": {
                  "domain": {
                    "x": [
                      0.55,
                      1
                    ],
                    "y": [
                      0,
                      1
                    ]
                  },
                  "xaxis": {
                    "title": {
                      "text": "TRIP_MILES"
                    }
                  },
                  "yaxis": {
                    "title": {
                      "text": "TRIP_SECONDS"
                    }
                  },
                  "zaxis": {
                    "title": {
                      "text": "FARE"
                    }
                  }
                },
                "template": {
                  "data": {
                    "bar": [
                      {
                        "error_x": {
                          "color": "#2a3f5f"
                        },
                        "error_y": {
                          "color": "#2a3f5f"
                        },
                        "marker": {
                          "line": {
                            "color": "#E5ECF6",
                            "width": 0.5
                          },
                          "pattern": {
                            "fillmode": "overlay",
                            "size": 10,
                            "solidity": 0.2
                          }
                        },
                        "type": "bar"
                      }
                    ],
                    "barpolar": [
                      {
                        "marker": {
                          "line": {
                            "color": "#E5ECF6",
                            "width": 0.5
                          },
                          "pattern": {
                            "fillmode": "overlay",
                            "size": 10,
                            "solidity": 0.2
                          }
                        },
                        "type": "barpolar"
                      }
                    ],
                    "carpet": [
                      {
                        "aaxis": {
                          "endlinecolor": "#2a3f5f",
                          "gridcolor": "white",
                          "linecolor": "white",
                          "minorgridcolor": "white",
                          "startlinecolor": "#2a3f5f"
                        },
                        "baxis": {
                          "endlinecolor": "#2a3f5f",
                          "gridcolor": "white",
                          "linecolor": "white",
                          "minorgridcolor": "white",
                          "startlinecolor": "#2a3f5f"
                        },
                        "type": "carpet"
                      }
                    ],
                    "choropleth": [
                      {
                        "colorbar": {
                          "outlinewidth": 0,
                          "ticks": ""
                        },
                        "type": "choropleth"
                      }
                    ],
                    "contour": [
                      {
                        "colorbar": {
                          "outlinewidth": 0,
                          "ticks": ""
                        },
                        "colorscale": [
                          [
                            0,
                            "#0d0887"
                          ],
                          [
                            0.1111111111111111,
                            "#46039f"
                          ],
                          [
                            0.2222222222222222,
                            "#7201a8"
                          ],
                          [
                            0.3333333333333333,
                            "#9c179e"
                          ],
                          [
                            0.4444444444444444,
                            "#bd3786"
                          ],
                          [
                            0.5555555555555556,
                            "#d8576b"
                          ],
                          [
                            0.6666666666666666,
                            "#ed7953"
                          ],
                          [
                            0.7777777777777778,
                            "#fb9f3a"
                          ],
                          [
                            0.8888888888888888,
                            "#fdca26"
                          ],
                          [
                            1,
                            "#f0f921"
                          ]
                        ],
                        "type": "contour"
                      }
                    ],
                    "contourcarpet": [
                      {
                        "colorbar": {
                          "outlinewidth": 0,
                          "ticks": ""
                        },
                        "type": "contourcarpet"
                      }
                    ],
                    "heatmap": [
                      {
                        "colorbar": {
                          "outlinewidth": 0,
                          "ticks": ""
                        },
                        "colorscale": [
                          [
                            0,
                            "#0d0887"
                          ],
                          [
                            0.1111111111111111,
                            "#46039f"
                          ],
                          [
                            0.2222222222222222,
                            "#7201a8"
                          ],
                          [
                            0.3333333333333333,
                            "#9c179e"
                          ],
                          [
                            0.4444444444444444,
                            "#bd3786"
                          ],
                          [
                            0.5555555555555556,
                            "#d8576b"
                          ],
                          [
                            0.6666666666666666,
                            "#ed7953"
                          ],
                          [
                            0.7777777777777778,
                            "#fb9f3a"
                          ],
                          [
                            0.8888888888888888,
                            "#fdca26"
                          ],
                          [
                            1,
                            "#f0f921"
                          ]
                        ],
                        "type": "heatmap"
                      }
                    ],
                    "histogram": [
                      {
                        "marker": {
                          "pattern": {
                            "fillmode": "overlay",
                            "size": 10,
                            "solidity": 0.2
                          }
                        },
                        "type": "histogram"
                      }
                    ],
                    "histogram2d": [
                      {
                        "colorbar": {
                          "outlinewidth": 0,
                          "ticks": ""
                        },
                        "colorscale": [
                          [
                            0,
                            "#0d0887"
                          ],
                          [
                            0.1111111111111111,
                            "#46039f"
                          ],
                          [
                            0.2222222222222222,
                            "#7201a8"
                          ],
                          [
                            0.3333333333333333,
                            "#9c179e"
                          ],
                          [
                            0.4444444444444444,
                            "#bd3786"
                          ],
                          [
                            0.5555555555555556,
                            "#d8576b"
                          ],
                          [
                            0.6666666666666666,
                            "#ed7953"
                          ],
                          [
                            0.7777777777777778,
                            "#fb9f3a"
                          ],
                          [
                            0.8888888888888888,
                            "#fdca26"
                          ],
                          [
                            1,
                            "#f0f921"
                          ]
                        ],
                        "type": "histogram2d"
                      }
                    ],
                    "histogram2dcontour": [
                      {
                        "colorbar": {
                          "outlinewidth": 0,
                          "ticks": ""
                        },
                        "colorscale": [
                          [
                            0,
                            "#0d0887"
                          ],
                          [
                            0.1111111111111111,
                            "#46039f"
                          ],
                          [
                            0.2222222222222222,
                            "#7201a8"
                          ],
                          [
                            0.3333333333333333,
                            "#9c179e"
                          ],
                          [
                            0.4444444444444444,
                            "#bd3786"
                          ],
                          [
                            0.5555555555555556,
                            "#d8576b"
                          ],
                          [
                            0.6666666666666666,
                            "#ed7953"
                          ],
                          [
                            0.7777777777777778,
                            "#fb9f3a"
                          ],
                          [
                            0.8888888888888888,
                            "#fdca26"
                          ],
                          [
                            1,
                            "#f0f921"
                          ]
                        ],
                        "type": "histogram2dcontour"
                      }
                    ],
                    "mesh3d": [
                      {
                        "colorbar": {
                          "outlinewidth": 0,
                          "ticks": ""
                        },
                        "type": "mesh3d"
                      }
                    ],
                    "parcoords": [
                      {
                        "line": {
                          "colorbar": {
                            "outlinewidth": 0,
                            "ticks": ""
                          }
                        },
                        "type": "parcoords"
                      }
                    ],
                    "pie": [
                      {
                        "automargin": true,
                        "type": "pie"
                      }
                    ],
                    "scatter": [
                      {
                        "fillpattern": {
                          "fillmode": "overlay",
                          "size": 10,
                          "solidity": 0.2
                        },
                        "type": "scatter"
                      }
                    ],
                    "scatter3d": [
                      {
                        "line": {
                          "colorbar": {
                            "outlinewidth": 0,
                            "ticks": ""
                          }
                        },
                        "marker": {
                          "colorbar": {
                            "outlinewidth": 0,
                            "ticks": ""
                          }
                        },
                        "type": "scatter3d"
                      }
                    ],
                    "scattercarpet": [
                      {
                        "marker": {
                          "colorbar": {
                            "outlinewidth": 0,
                            "ticks": ""
                          }
                        },
                        "type": "scattercarpet"
                      }
                    ],
                    "scattergeo": [
                      {
                        "marker": {
                          "colorbar": {
                            "outlinewidth": 0,
                            "ticks": ""
                          }
                        },
                        "type": "scattergeo"
                      }
                    ],
                    "scattergl": [
                      {
                        "marker": {
                          "colorbar": {
                            "outlinewidth": 0,
                            "ticks": ""
                          }
                        },
                        "type": "scattergl"
                      }
                    ],
                    "scattermap": [
                      {
                        "marker": {
                          "colorbar": {
                            "outlinewidth": 0,
                            "ticks": ""
                          }
                        },
                        "type": "scattermap"
                      }
                    ],
                    "scattermapbox": [
                      {
                        "marker": {
                          "colorbar": {
                            "outlinewidth": 0,
                            "ticks": ""
                          }
                        },
                        "type": "scattermapbox"
                      }
                    ],
                    "scatterpolar": [
                      {
                        "marker": {
                          "colorbar": {
                            "outlinewidth": 0,
                            "ticks": ""
                          }
                        },
                        "type": "scatterpolar"
                      }
                    ],
                    "scatterpolargl": [
                      {
                        "marker": {
                          "colorbar": {
                            "outlinewidth": 0,
                            "ticks": ""
                          }
                        },
                        "type": "scatterpolargl"
                      }
                    ],
                    "scatterternary": [
                      {
                        "marker": {
                          "colorbar": {
                            "outlinewidth": 0,
                            "ticks": ""
                          }
                        },
                        "type": "scatterternary"
                      }
                    ],
                    "surface": [
                      {
                        "colorbar": {
                          "outlinewidth": 0,
                          "ticks": ""
                        },
                        "colorscale": [
                          [
                            0,
                            "#0d0887"
                          ],
                          [
                            0.1111111111111111,
                            "#46039f"
                          ],
                          [
                            0.2222222222222222,
                            "#7201a8"
                          ],
                          [
                            0.3333333333333333,
                            "#9c179e"
                          ],
                          [
                            0.4444444444444444,
                            "#bd3786"
                          ],
                          [
                            0.5555555555555556,
                            "#d8576b"
                          ],
                          [
                            0.6666666666666666,
                            "#ed7953"
                          ],
                          [
                            0.7777777777777778,
                            "#fb9f3a"
                          ],
                          [
                            0.8888888888888888,
                            "#fdca26"
                          ],
                          [
                            1,
                            "#f0f921"
                          ]
                        ],
                        "type": "surface"
                      }
                    ],
                    "table": [
                      {
                        "cells": {
                          "fill": {
                            "color": "#EBF0F8"
                          },
                          "line": {
                            "color": "white"
                          }
                        },
                        "header": {
                          "fill": {
                            "color": "#C8D4E3"
                          },
                          "line": {
                            "color": "white"
                          }
                        },
                        "type": "table"
                      }
                    ]
                  },
                  "layout": {
                    "annotationdefaults": {
                      "arrowcolor": "#2a3f5f",
                      "arrowhead": 0,
                      "arrowwidth": 1
                    },
                    "autotypenumbers": "strict",
                    "coloraxis": {
                      "colorbar": {
                        "outlinewidth": 0,
                        "ticks": ""
                      }
                    },
                    "colorscale": {
                      "diverging": [
                        [
                          0,
                          "#8e0152"
                        ],
                        [
                          0.1,
                          "#c51b7d"
                        ],
                        [
                          0.2,
                          "#de77ae"
                        ],
                        [
                          0.3,
                          "#f1b6da"
                        ],
                        [
                          0.4,
                          "#fde0ef"
                        ],
                        [
                          0.5,
                          "#f7f7f7"
                        ],
                        [
                          0.6,
                          "#e6f5d0"
                        ],
                        [
                          0.7,
                          "#b8e186"
                        ],
                        [
                          0.8,
                          "#7fbc41"
                        ],
                        [
                          0.9,
                          "#4d9221"
                        ],
                        [
                          1,
                          "#276419"
                        ]
                      ],
                      "sequential": [
                        [
                          0,
                          "#0d0887"
                        ],
                        [
                          0.1111111111111111,
                          "#46039f"
                        ],
                        [
                          0.2222222222222222,
                          "#7201a8"
                        ],
                        [
                          0.3333333333333333,
                          "#9c179e"
                        ],
                        [
                          0.4444444444444444,
                          "#bd3786"
                        ],
                        [
                          0.5555555555555556,
                          "#d8576b"
                        ],
                        [
                          0.6666666666666666,
                          "#ed7953"
                        ],
                        [
                          0.7777777777777778,
                          "#fb9f3a"
                        ],
                        [
                          0.8888888888888888,
                          "#fdca26"
                        ],
                        [
                          1,
                          "#f0f921"
                        ]
                      ],
                      "sequentialminus": [
                        [
                          0,
                          "#0d0887"
                        ],
                        [
                          0.1111111111111111,
                          "#46039f"
                        ],
                        [
                          0.2222222222222222,
                          "#7201a8"
                        ],
                        [
                          0.3333333333333333,
                          "#9c179e"
                        ],
                        [
                          0.4444444444444444,
                          "#bd3786"
                        ],
                        [
                          0.5555555555555556,
                          "#d8576b"
                        ],
                        [
                          0.6666666666666666,
                          "#ed7953"
                        ],
                        [
                          0.7777777777777778,
                          "#fb9f3a"
                        ],
                        [
                          0.8888888888888888,
                          "#fdca26"
                        ],
                        [
                          1,
                          "#f0f921"
                        ]
                      ]
                    },
                    "colorway": [
                      "#636efa",
                      "#EF553B",
                      "#00cc96",
                      "#ab63fa",
                      "#FFA15A",
                      "#19d3f3",
                      "#FF6692",
                      "#B6E880",
                      "#FF97FF",
                      "#FECB52"
                    ],
                    "font": {
                      "color": "#2a3f5f"
                    },
                    "geo": {
                      "bgcolor": "white",
                      "lakecolor": "white",
                      "landcolor": "#E5ECF6",
                      "showlakes": true,
                      "showland": true,
                      "subunitcolor": "white"
                    },
                    "hoverlabel": {
                      "align": "left"
                    },
                    "hovermode": "closest",
                    "mapbox": {
                      "style": "light"
                    },
                    "paper_bgcolor": "white",
                    "plot_bgcolor": "#E5ECF6",
                    "polar": {
                      "angularaxis": {
                        "gridcolor": "white",
                        "linecolor": "white",
                        "ticks": ""
                      },
                      "bgcolor": "#E5ECF6",
                      "radialaxis": {
                        "gridcolor": "white",
                        "linecolor": "white",
                        "ticks": ""
                      }
                    },
                    "scene": {
                      "xaxis": {
                        "backgroundcolor": "#E5ECF6",
                        "gridcolor": "white",
                        "gridwidth": 2,
                        "linecolor": "white",
                        "showbackground": true,
                        "ticks": "",
                        "zerolinecolor": "white"
                      },
                      "yaxis": {
                        "backgroundcolor": "#E5ECF6",
                        "gridcolor": "white",
                        "gridwidth": 2,
                        "linecolor": "white",
                        "showbackground": true,
                        "ticks": "",
                        "zerolinecolor": "white"
                      },
                      "zaxis": {
                        "backgroundcolor": "#E5ECF6",
                        "gridcolor": "white",
                        "gridwidth": 2,
                        "linecolor": "white",
                        "showbackground": true,
                        "ticks": "",
                        "zerolinecolor": "white"
                      }
                    },
                    "shapedefaults": {
                      "line": {
                        "color": "#2a3f5f"
                      }
                    },
                    "ternary": {
                      "aaxis": {
                        "gridcolor": "white",
                        "linecolor": "white",
                        "ticks": ""
                      },
                      "baxis": {
                        "gridcolor": "white",
                        "linecolor": "white",
                        "ticks": ""
                      },
                      "bgcolor": "#E5ECF6",
                      "caxis": {
                        "gridcolor": "white",
                        "linecolor": "white",
                        "ticks": ""
                      }
                    },
                    "title": {
                      "x": 0.05
                    },
                    "xaxis": {
                      "automargin": true,
                      "gridcolor": "white",
                      "linecolor": "white",
                      "ticks": "",
                      "title": {
                        "standoff": 15
                      },
                      "zerolinecolor": "white",
                      "zerolinewidth": 2
                    },
                    "yaxis": {
                      "automargin": true,
                      "gridcolor": "white",
                      "linecolor": "white",
                      "ticks": "",
                      "title": {
                        "standoff": 15
                      },
                      "zerolinecolor": "white",
                      "zerolinewidth": 2
                    }
                  }
                },
                "xaxis": {
                  "anchor": "y",
                  "domain": [
                    0,
                    0.45
                  ],
                  "title": {
                    "text": "Epoch"
                  }
                },
                "yaxis": {
                  "anchor": "x",
                  "domain": [
                    0,
                    1
                  ],
                  "range": [
                    2.882286262512207,
                    13.235037803649902
                  ],
                  "title": {
                    "text": "Root Mean Squared Error"
                  }
                }
              }
            }
          },
          "metadata": {},
          "output_type": "display_data"
        }
      ],
      "source": [
        "#@title Code - Experiment 4\n",
        "\n",
        "# The following variables are the hyperparameters.\n",
        "learning_rate = 0.001\n",
        "epochs = 20\n",
        "batch_size = 50\n",
        "\n",
        "training_df.loc[:, 'TRIP_MINUTES'] = training_df['TRIP_SECONDS']\n",
        "\n",
        "features = ['TRIP_MILES', 'TRIP_SECONDS']\n",
        "label = 'FARE'\n",
        "\n",
        "model_2 = run_experiment(training_df, features, label, learning_rate, epochs, batch_size)"
      ]
    },
    {
      "cell_type": "code",
      "execution_count": null,
      "metadata": {
        "cellView": "form",
        "id": "uFkKK5t33xSX"
      },
      "outputs": [],
      "source": [
        "#@title Double-click to view answers for training with two features\n",
        "\n",
        "# Does the model with two features produce better results than one using a\n",
        "# single feature?\n",
        "# -----------------------------------------------------------------------------\n",
        "answer = '''\n",
        "To answer this question for your specific training runs, compare the RMSE for\n",
        "each model. For example, if the RMSE for the model trained with one feature was\n",
        "3.7457 and the RMSE for the model with two features is 3.4787, that means that\n",
        "on average the model with two features makes predictions that are about $0.27\n",
        "closer to the observed fare.\n",
        "\n",
        "'''\n",
        "print(answer)\n",
        "\n",
        "# Does it make a difference if you use TRIP_SECONDS instead of TRIP_MILES?\n",
        "# -----------------------------------------------------------------------------\n",
        "answer = '''\n",
        "When training a model with more than one feature, it is important that all\n",
        "numeric values are roughly on the same scale. In this case, TRIP_SECONDS and\n",
        "TRIP_MILES do not meet this criteria. The mean value for TRIP_MILES is 8.3 and\n",
        "the mean for TRIP_SECONDS is 1320; that is two orders of magnitude difference.\n",
        "Converting the trip duration to minutes helps during training because in puts\n",
        "values for both features on a more comparable scale. Of course, this is not the\n",
        "only way to scale values before training, but you will learn about that in\n",
        "another module.\n",
        "\n",
        "'''\n",
        "print(answer)\n",
        "\n",
        "# How well do you think the model comes to the ground truth fare calculation for\n",
        "# Chicago taxi trips?\n",
        "# -----------------------------------------------------------------------------\n",
        "answer = '''\n",
        "In reality, Chicago taxi cabs use a documented formula to determine cab fares.\n",
        "For a single passenger paying cash, the fare is calculated like this:\n",
        "\n",
        "FARE = 2.25 * TRIP_MILES + 0.12 * TRIP_MINUTES + 3.25\n",
        "\n",
        "Typically with machine learning problems you would not know the 'correct'\n",
        "formula, but in this case you can this knowledge to evaluate your model. Take a\n",
        "look at your model output (the weights and bias) and determine how well it\n",
        "matches the ground truth fare calculation. You should find that the model is\n",
        "roughly close to this formula.\n",
        "'''\n",
        "print(answer)"
      ]
    },
    {
      "cell_type": "markdown",
      "metadata": {
        "id": "MzMfgxldSMGK"
      },
      "source": [
        "# Part 4 - Validate Model\n",
        "\n",
        "\n",
        "---\n",
        "\n"
      ]
    },
    {
      "cell_type": "markdown",
      "metadata": {
        "id": "_yW7nVxlO1WY"
      },
      "source": [
        "## Use the model to make predictions\n",
        "\n",
        "Now that you have a trained model, you can use the model to make predictions. In practice, you should make predictions on examples that are not used during training. However, for this exercise, you'll just work with a subset of the same training dataset. In another Colab exercise you will explore ways to make predictions on examples not used in training.\n",
        "\n",
        "**Instructions**\n",
        "\n",
        "1. Run the **Define functions to make predictions** code cell.\n",
        "1. Run the **Make predictions** code cell.\n",
        "1. Review the predictions in the output.\n",
        "1. **Check your understanding** by answering these questions:\n",
        "  * How close is the predicted value to the label value? In other words, does your model accurately predict the fare for a taxi ride?"
      ]
    },
    {
      "cell_type": "code",
      "execution_count": 29,
      "metadata": {
        "cellView": "form",
        "id": "XdNxv3j8PGnr"
      },
      "outputs": [],
      "source": [
        "#@title Code - Define functions to make predictions\n",
        "def format_currency(x):\n",
        "  return \"${:.2f}\".format(x)\n",
        "\n",
        "def build_batch(df, batch_size):\n",
        "  batch = df.sample(n=batch_size).copy()\n",
        "  batch.set_index(np.arange(batch_size), inplace=True)\n",
        "  return batch\n",
        "\n",
        "def predict_fare(model, df, features, label, batch_size=50):\n",
        "  batch = build_batch(df, batch_size)\n",
        "  predicted_values = model.predict_on_batch(x=batch.loc[:, features].values)\n",
        "\n",
        "  data = {\"PREDICTED_FARE\": [], \"OBSERVED_FARE\": [], \"L1_LOSS\": [],\n",
        "          features[0]: [], features[1]: []}\n",
        "  for i in range(batch_size):\n",
        "    predicted = predicted_values[i][0]\n",
        "    observed = batch.at[i, label]\n",
        "    data[\"PREDICTED_FARE\"].append(format_currency(predicted))\n",
        "    data[\"OBSERVED_FARE\"].append(format_currency(observed))\n",
        "    data[\"L1_LOSS\"].append(format_currency(abs(observed - predicted)))\n",
        "    data[features[0]].append(batch.at[i, features[0]])\n",
        "    data[features[1]].append(\"{:.2f}\".format(batch.at[i, features[1]]))\n",
        "\n",
        "  output_df = pd.DataFrame(data)\n",
        "  return output_df\n",
        "\n",
        "def show_predictions(output):\n",
        "  header = \"-\" * 80\n",
        "  banner = header + \"\\n\" + \"|\" + \"PREDICTIONS\".center(78) + \"|\" + \"\\n\" + header\n",
        "  print(banner)\n",
        "  print(output)\n",
        "  return"
      ]
    },
    {
      "cell_type": "code",
      "execution_count": 30,
      "metadata": {
        "cellView": "form",
        "id": "PK3oO2kYV8m0"
      },
      "outputs": [
        {
          "name": "stdout",
          "output_type": "stream",
          "text": [
            "--------------------------------------------------------------------------------\n",
            "|                                 PREDICTIONS                                  |\n",
            "--------------------------------------------------------------------------------\n",
            "   PREDICTED_FARE OBSERVED_FARE L1_LOSS  TRIP_MILES TRIP_SECONDS\n",
            "0          $43.17        $41.50   $1.67       16.60      2880.00\n",
            "1          $13.83        $13.25   $0.58        4.27       710.00\n",
            "2          $31.63        $32.75   $1.12       12.10      1680.00\n",
            "3           $7.05         $6.75   $0.30        1.22       408.00\n",
            "4          $19.39        $20.00   $0.61        6.10      1620.00\n",
            "5          $37.41        $38.75   $1.34       15.40      1250.00\n",
            "6          $37.62        $38.50   $0.88       14.53      2209.00\n",
            "7          $31.34        $32.00   $0.66       10.70      2921.00\n",
            "8           $5.53         $5.25   $0.28        0.65       227.00\n",
            "9          $18.89        $19.00   $0.11        6.19      1289.00\n",
            "10         $47.45        $47.50   $0.05       18.59      3005.00\n",
            "11          $9.66        $11.22   $1.56        2.44       480.00\n",
            "12          $9.84        $10.25   $0.41        2.08       925.00\n",
            "13         $44.88        $45.25   $0.37       17.80      2531.00\n",
            "14          $5.53         $5.00   $0.53        0.63       248.00\n",
            "15          $6.28         $6.00   $0.28        0.90       346.00\n",
            "16         $49.20        $50.50   $1.30       20.80      1680.00\n",
            "17         $21.40        $21.50   $0.10        7.40      1320.00\n",
            "18          $8.36         $8.50   $0.14        1.72       556.00\n",
            "19         $15.73        $15.37   $0.36        4.97       949.00\n",
            "20         $24.60        $24.25   $0.35        8.50      1800.00\n",
            "21          $6.53         $9.00   $2.47        1.17       202.00\n",
            "22          $8.05         $8.00   $0.05        1.49       629.00\n",
            "23         $64.55        $66.75   $2.20       28.00      2075.00\n",
            "24         $70.75        $73.75   $3.00       30.25      2886.00\n",
            "25         $44.55        $44.25   $0.30       17.71      2457.00\n",
            "26         $12.50        $12.50   $0.00        3.30      1020.00\n",
            "27         $42.11        $40.75   $1.36       15.42      3524.00\n",
            "28         $28.30        $29.50   $1.20        9.87      2257.00\n",
            "29         $11.49        $11.56   $0.07        2.95       869.00\n",
            "30          $8.90         $9.75   $0.85        1.70       840.00\n",
            "31          $6.58         $6.00   $0.58        1.04       356.00\n",
            "32          $6.81         $7.00   $0.19        0.91       596.00\n",
            "33         $13.73        $31.99  $18.26        2.57      2341.00\n",
            "34         $44.13        $44.25   $0.12       17.90      2064.00\n",
            "35         $38.26        $40.50   $2.24       14.90      2160.00\n",
            "36         $20.71        $36.50  $15.79        7.00      1380.00\n",
            "37          $9.50         $9.50   $0.00        2.30       540.00\n",
            "38         $39.51        $38.25   $1.26       14.95      2718.00\n",
            "39         $43.72        $43.25   $0.47       17.20      2555.00\n",
            "40         $42.37        $41.25   $1.12       16.44      2648.00\n",
            "41         $15.26        $15.00   $0.26        5.04       649.00\n",
            "42         $32.73        $32.50   $0.23       12.79      1536.00\n",
            "43         $37.10        $38.25   $1.15       15.16      1334.00\n",
            "44         $10.17         $9.00   $1.17        1.97      1195.00\n",
            "45          $6.42         $6.00   $0.42        0.94       375.00\n",
            "46          $5.86         $5.25   $0.61        0.80       240.00\n",
            "47         $42.45        $42.50   $0.05       17.30      1837.00\n",
            "48         $45.45        $45.75   $0.30       17.66      2947.00\n",
            "49         $18.98        $19.25   $0.27        6.81       722.00\n"
          ]
        }
      ],
      "source": [
        "#@title Code - Make predictions\n",
        "\n",
        "output = predict_fare(model_2, training_df, features, label)\n",
        "show_predictions(output)"
      ]
    },
    {
      "cell_type": "code",
      "execution_count": 31,
      "metadata": {
        "cellView": "form",
        "id": "6sjix7lXI7xT"
      },
      "outputs": [
        {
          "name": "stdout",
          "output_type": "stream",
          "text": [
            "\n",
            "Based on a random sampling of examples, the model seems to do pretty well\n",
            "predicting the fare for a taxi ride. Most of the predicted values do not vary\n",
            "significantly from the observed value. You should be able to see this by looking\n",
            "at the column L1_LOSS = |observed - predicted|.\n",
            "\n"
          ]
        }
      ],
      "source": [
        "#@title Double-click to view answers for validate model\n",
        "\n",
        "# How close is the predicted value to the label value?\n",
        "# -----------------------------------------------------------------------------\n",
        "answer = '''\n",
        "Based on a random sampling of examples, the model seems to do pretty well\n",
        "predicting the fare for a taxi ride. Most of the predicted values do not vary\n",
        "significantly from the observed value. You should be able to see this by looking\n",
        "at the column L1_LOSS = |observed - predicted|.\n",
        "'''\n",
        "print(answer)"
      ]
    },
    {
      "cell_type": "code",
      "execution_count": null,
      "metadata": {},
      "outputs": [],
      "source": []
    }
  ],
  "metadata": {
    "colab": {
      "collapsed_sections": [
        "sgR4YRjj5T-b"
      ],
      "provenance": []
    },
    "kernelspec": {
      "display_name": "jupyter-env",
      "language": "python",
      "name": "python3"
    },
    "language_info": {
      "codemirror_mode": {
        "name": "ipython",
        "version": 3
      },
      "file_extension": ".py",
      "mimetype": "text/x-python",
      "name": "python",
      "nbconvert_exporter": "python",
      "pygments_lexer": "ipython3",
      "version": "3.12.2"
    }
  },
  "nbformat": 4,
  "nbformat_minor": 0
}
